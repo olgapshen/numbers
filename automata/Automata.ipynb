{
 "cells": [
  {
   "cell_type": "code",
   "execution_count": 1,
   "id": "b2d62fcf-1ad8-4cd5-8f8e-02860a15c815",
   "metadata": {},
   "outputs": [],
   "source": [
    "import io, math, plantuml, graphviz, os.path\n",
    "import pandas as pd\n",
    "import numpy as np\n",
    "# TODO: импортировать только необходимое\n",
    "from pyeda.inter import *\n",
    "from graphviz import Source\n",
    "from transitions.extensions import GraphMachine\n",
    "from IPython.display import Image, display"
   ]
  },
  {
   "cell_type": "markdown",
   "id": "01e5e022-1ba5-453f-b867-f3299f04f4d7",
   "metadata": {},
   "source": [
    "# Теория автоматов\n",
    "--------------------------------------------------------------------------------\n",
    "\n",
    "Исследование процесса перевода абстрактного (*АА*) автомата в автомат структурный\n",
    "(*СА*). Документ основан на [учебном пособии][1] Ожиганова А. А.\n",
    "\"Теория автоматов\".\n",
    "\n",
    "![AbstractAutomat](img/AA.png \" Абстрактный Автомат\")\n",
    "\n",
    "Задача создания *СА* сводится к следующим этапам:\n",
    "\n",
    "* Вычислению функций выходных сигналов $y_n$\n",
    "* Вычислению функций сигналов возбуждения элементов памяти $U_r$\n",
    "\n",
    "Все сигналы исходят из комбинационной схемы *КС*. Сигналов возбуждения элементов\n",
    "памяти связывает *КС* и память *П*.\n",
    "\n",
    "План документа:\n",
    "\n",
    "1. Общая теория\n",
    "2. Описание *АА* Мили с помощью таблиц переходов\n",
    "3. Реализация модели автомата с помощью библиотеки [transitions][2]\n",
    "4. Запуск *АА* на заданном входном слове\n",
    "6. Преобразование *АА* в *СА*  с помощью библиотеки [pyeda][3]\n",
    "    1. Кодирование входных и выходных сигналов *разрядным* двоичным кодом\n",
    "    2. Кодировка состояний [*кодом Грея*][4]\n",
    "    3. Моделирование ячейки памяти автомата\n",
    "    4. Вычисление таблиц истинности для $y_n$\n",
    "    5. Нахождение *ДНФ* для $y_n$\n",
    "    6. Вычисление таблиц истинности для $U_r$\n",
    "    7. Нахождение *ДНФ* для $U_r$\n",
    "8. Запуск *СА* на входном слове заданном для *АА*\n",
    "9. Проверка равенства двух выходных слов\n",
    "\n",
    "Для удобства входной и выходной алфавиты обоих автоматов кодированы рядом\n",
    "натуральных чисел $\\mathbb{N}$. При этом при создании автоматов их алфавиты\n",
    "могут быть вполне разнообразными. При кодировке состояний используется код\n",
    "Грея для минимизации действий необходимых для смены состояния.\n",
    "\n",
    "\n",
    "[1]: https://books.ifmo.ru/book/826/teoriya_avtomatov._uchebnoe_posobie.htm\n",
    "[2]: https://github.com/pytransitions/transitions\n",
    "[3]: https://pyeda.readthedocs.io/en/latest/index.html\n",
    "[4]: https://ru.wikipedia.org/wiki/Код_Грея"
   ]
  },
  {
   "cell_type": "markdown",
   "id": "610235ab-c72e-4ef2-8ad7-1a849c7bc4c9",
   "metadata": {},
   "source": [
    "## Общая теория\n",
    "--------------------------------------------------------------------------------\n",
    "Напомним, что любой автомат описывается шестикомпонентным набором:\n",
    "\n",
    "$S = (A, Z, W, \\delta, \\lambda, a1)$, где\n",
    "\n",
    "1. $A = {a_1,...,a_m,...,a_M}$ - множество состояний или алфавит состояний *АА*\n",
    "2. $Z = {z_1,...,z_f,...,z_F}$ - множество входных сигналов или входной алфавит *АА*\n",
    "3. $W = {w_1,...,w_g,...,w_G}$ - множество выходных сигналов или выходной алфавит *АА*\n",
    "4. $\\delta$ - функция переходов *АА*: $\\delta(a_m, z_f) \\mapsto a_s\\ |\\ a_m, a_s \\in A$\n",
    "5. $\\lambda$ - функция выходов *АА*: $\\lambda(a_m, z_f) \\mapsto w_g\\ |\\ a_m \\in A, w_g \\in G$\n",
    "7. $а_1$ - начальное состояние *АА*"
   ]
  },
  {
   "cell_type": "markdown",
   "id": "2a06aca7-517e-4d0e-8916-cf9e949e94b3",
   "metadata": {},
   "source": [
    "## Описание АА\n",
    "--------------------------------------------------------------------------------\n",
    "\n",
    "Задаём элементы *АА* $S$:\n",
    "\n",
    "* Алфавит состояний $A$\n",
    "* Алфавит событий $Z$\n",
    "* Алфавит сигналов $W$\n",
    "* Функцию $\\delta$\n",
    "* Функцию $\\lambda$\n",
    "* Начальное состояние $a_1$"
   ]
  },
  {
   "cell_type": "code",
   "execution_count": 2,
   "id": "41b41ae5-2e01-464b-9633-2a89f024201b",
   "metadata": {},
   "outputs": [],
   "source": [
    "states = ['a1', 'a2', 'a3']             # A\n",
    "events = ['z1', 'z2', 'z3']             # Z\n",
    "signls = ['w1', 'w2', 'w3', 'w4', 'w5'] # W\n",
    "initial = 'a1'                          # a1"
   ]
  },
  {
   "cell_type": "code",
   "execution_count": 3,
   "id": "1edc7fd3-1df3-43d7-b5ae-04ff010abfb9",
   "metadata": {},
   "outputs": [],
   "source": [
    "delta = np.array(           # delta\n",
    "    [['a2', '', 'a1'],\n",
    "     ['a3', 'a1', ''],\n",
    "     ['a2', 'a3', 'a3']])\n",
    "lmbda = np.array(           # lambda\n",
    "    [['w1', '', 'w2'],\n",
    "     ['w4', 'w5', ''],\n",
    "     ['w2', 'w1', 'w3']])"
   ]
  },
  {
   "cell_type": "code",
   "execution_count": 4,
   "id": "7cccd040-f7c9-41e3-bc1c-e7f3a233a12d",
   "metadata": {},
   "outputs": [
    {
     "data": {
      "text/html": [
       "<div>\n",
       "<style scoped>\n",
       "    .dataframe tbody tr th:only-of-type {\n",
       "        vertical-align: middle;\n",
       "    }\n",
       "\n",
       "    .dataframe tbody tr th {\n",
       "        vertical-align: top;\n",
       "    }\n",
       "\n",
       "    .dataframe thead th {\n",
       "        text-align: right;\n",
       "    }\n",
       "</style>\n",
       "<table border=\"1\" class=\"dataframe\">\n",
       "  <thead>\n",
       "    <tr style=\"text-align: right;\">\n",
       "      <th></th>\n",
       "      <th>a1</th>\n",
       "      <th>a2</th>\n",
       "      <th>a3</th>\n",
       "    </tr>\n",
       "  </thead>\n",
       "  <tbody>\n",
       "    <tr>\n",
       "      <th>z1</th>\n",
       "      <td>a2</td>\n",
       "      <td></td>\n",
       "      <td>a1</td>\n",
       "    </tr>\n",
       "    <tr>\n",
       "      <th>z2</th>\n",
       "      <td>a3</td>\n",
       "      <td>a1</td>\n",
       "      <td></td>\n",
       "    </tr>\n",
       "    <tr>\n",
       "      <th>z3</th>\n",
       "      <td>a2</td>\n",
       "      <td>a3</td>\n",
       "      <td>a3</td>\n",
       "    </tr>\n",
       "  </tbody>\n",
       "</table>\n",
       "</div>"
      ],
      "text/plain": [
       "    a1  a2  a3\n",
       "z1  a2      a1\n",
       "z2  a3  a1    \n",
       "z3  a2  a3  a3"
      ]
     },
     "execution_count": 4,
     "metadata": {},
     "output_type": "execute_result"
    }
   ],
   "source": [
    "deltaFr = pd.DataFrame(\n",
    "    delta,\n",
    "    columns=states,\n",
    "    index=events)\n",
    "deltaFr"
   ]
  },
  {
   "cell_type": "code",
   "execution_count": 5,
   "id": "c6732b08-2505-4938-ab09-3179d904c3f7",
   "metadata": {},
   "outputs": [
    {
     "data": {
      "text/html": [
       "<div>\n",
       "<style scoped>\n",
       "    .dataframe tbody tr th:only-of-type {\n",
       "        vertical-align: middle;\n",
       "    }\n",
       "\n",
       "    .dataframe tbody tr th {\n",
       "        vertical-align: top;\n",
       "    }\n",
       "\n",
       "    .dataframe thead th {\n",
       "        text-align: right;\n",
       "    }\n",
       "</style>\n",
       "<table border=\"1\" class=\"dataframe\">\n",
       "  <thead>\n",
       "    <tr style=\"text-align: right;\">\n",
       "      <th></th>\n",
       "      <th>a1</th>\n",
       "      <th>a2</th>\n",
       "      <th>a3</th>\n",
       "    </tr>\n",
       "  </thead>\n",
       "  <tbody>\n",
       "    <tr>\n",
       "      <th>z1</th>\n",
       "      <td>w1</td>\n",
       "      <td></td>\n",
       "      <td>w2</td>\n",
       "    </tr>\n",
       "    <tr>\n",
       "      <th>z2</th>\n",
       "      <td>w4</td>\n",
       "      <td>w5</td>\n",
       "      <td></td>\n",
       "    </tr>\n",
       "    <tr>\n",
       "      <th>z3</th>\n",
       "      <td>w2</td>\n",
       "      <td>w1</td>\n",
       "      <td>w3</td>\n",
       "    </tr>\n",
       "  </tbody>\n",
       "</table>\n",
       "</div>"
      ],
      "text/plain": [
       "    a1  a2  a3\n",
       "z1  w1      w2\n",
       "z2  w4  w5    \n",
       "z3  w2  w1  w3"
      ]
     },
     "execution_count": 5,
     "metadata": {},
     "output_type": "execute_result"
    }
   ],
   "source": [
    "lmbdaFr = pd.DataFrame(\n",
    "    lmbda,\n",
    "    columns=states,\n",
    "    index=events)\n",
    "lmbdaFr"
   ]
  },
  {
   "cell_type": "markdown",
   "id": "00e10e20-5e16-48d3-9085-a1810d33e727",
   "metadata": {},
   "source": [
    "## Реализация модели автомата"
   ]
  },
  {
   "cell_type": "code",
   "execution_count": 6,
   "id": "11ace839-843f-4340-a0f5-a87f260d2752",
   "metadata": {},
   "outputs": [],
   "source": [
    "class Automat():    \n",
    "    def __init__(self):\n",
    "        self.inputDict = {}  # Z\n",
    "        self.outputDict = {} # W\n",
    "        self.input = []\n",
    "        self.output = []\n",
    "        # Для удобства логика конструктора вынесена вовне\n",
    "\n",
    "    def process(self):\n",
    "        self.output = []\n",
    "        for inpSigNum in model.input:\n",
    "            inpSigStr = str(inpSigNum)\n",
    "            inpSig = self.inputDict[inpSigStr]\n",
    "            event = getattr(self, inpSig)\n",
    "            event()\n",
    "    \n",
    "    def show_graph(self, **kwargs):        \n",
    "        stream = io.BytesIO()\n",
    "        self.get_graph(**kwargs).draw(stream, prog='dot', format='png')\n",
    "        display(Image(stream.getvalue()))"
   ]
  },
  {
   "cell_type": "code",
   "execution_count": 7,
   "id": "8e30458b-ada1-47e8-b30e-e57128b278ab",
   "metadata": {},
   "outputs": [],
   "source": [
    "model = Automat()\n",
    "machine = GraphMachine(\n",
    "    model=model,\n",
    "    states=states, \n",
    "    initial=initial)"
   ]
  },
  {
   "cell_type": "code",
   "execution_count": 8,
   "id": "2bedbbac-f237-45e4-a24d-a27da5b86743",
   "metadata": {},
   "outputs": [
    {
     "name": "stdout",
     "output_type": "stream",
     "text": [
      "(3, 3, 2)\n"
     ]
    },
    {
     "data": {
      "text/plain": [
       "array([[['a2', 'w1'],\n",
       "        ['', ''],\n",
       "        ['a1', 'w2']],\n",
       "\n",
       "       [['a3', 'w4'],\n",
       "        ['a1', 'w5'],\n",
       "        ['', '']],\n",
       "\n",
       "       [['a2', 'w2'],\n",
       "        ['a3', 'w1'],\n",
       "        ['a3', 'w3']]], dtype='<U2')"
      ]
     },
     "execution_count": 8,
     "metadata": {},
     "output_type": "execute_result"
    }
   ],
   "source": [
    "desc = np.dstack((delta, lmbda))\n",
    "print(desc.shape)\n",
    "desc"
   ]
  },
  {
   "cell_type": "code",
   "execution_count": 9,
   "id": "3509bdc5-e597-4a8f-b795-b18ffc04d54a",
   "metadata": {},
   "outputs": [
    {
     "data": {
      "text/plain": [
       "[['z1', 'a1', 'a2', 'w1'],\n",
       " ['z1', 'a3', 'a1', 'w2'],\n",
       " ['z2', 'a1', 'a3', 'w4'],\n",
       " ['z2', 'a2', 'a1', 'w5'],\n",
       " ['z3', 'a1', 'a2', 'w2'],\n",
       " ['z3', 'a2', 'a3', 'w1'],\n",
       " ['z3', 'a3', 'a3', 'w3']]"
      ]
     },
     "execution_count": 9,
     "metadata": {},
     "output_type": "execute_result"
    }
   ],
   "source": [
    "outputDict = {} # W\n",
    "mappings = []\n",
    "\n",
    "def decode(model, outSig):\n",
    "    letter = model.outputDict[outSig]\n",
    "    model.output.append(letter)\n",
    "\n",
    "for z in range(len(events)):\n",
    "    inpSig = events[z]\n",
    "    for a in range(len(states)):\n",
    "        fromState = states[a]\n",
    "        toState = desc[z, a, 0]\n",
    "        outSig = desc[z, a, 1]\n",
    "        if not toState: continue\n",
    "\n",
    "        mappings.append([inpSig, fromState, toState, outSig])\n",
    "        machine.add_transition(\n",
    "            inpSig,\n",
    "            fromState,\n",
    "            toState,\n",
    "            after = lambda outSig=outSig: decode(model, outSig))\n",
    "\n",
    "mappings"
   ]
  },
  {
   "cell_type": "code",
   "execution_count": 10,
   "id": "fa0c45c3-a0ac-40d9-9137-22917eee9a69",
   "metadata": {},
   "outputs": [],
   "source": [
    "def makeSignalDict(alphabet, dirStrict=True):\n",
    "    sigDict = {}\n",
    "    for z in range(len(alphabet)):\n",
    "        num = str(z + 1)\n",
    "        sig = alphabet[z]\n",
    "        if dirStrict:\n",
    "            sigDict[sig] = num\n",
    "        else:\n",
    "            sigDict[num] = sig\n",
    "    return sigDict"
   ]
  },
  {
   "cell_type": "code",
   "execution_count": 11,
   "id": "a9f73d13-f80c-4b6b-8233-ed29d2512354",
   "metadata": {},
   "outputs": [
    {
     "data": {
      "text/plain": [
       "{'1': 'z1', '2': 'z2', '3': 'z3'}"
      ]
     },
     "execution_count": 11,
     "metadata": {},
     "output_type": "execute_result"
    }
   ],
   "source": [
    "inputDict = makeSignalDict(events, False)  # Z\n",
    "model.inputDict = inputDict\n",
    "inputDict"
   ]
  },
  {
   "cell_type": "code",
   "execution_count": 12,
   "id": "3eca1500-6beb-42f8-8bcd-e72ce126e174",
   "metadata": {},
   "outputs": [
    {
     "data": {
      "text/plain": [
       "{'w1': '1', 'w2': '2', 'w3': '3', 'w4': '4', 'w5': '5'}"
      ]
     },
     "execution_count": 12,
     "metadata": {},
     "output_type": "execute_result"
    }
   ],
   "source": [
    "outputDict = makeSignalDict(signls)  # W\n",
    "model.outputDict = outputDict\n",
    "outputDict"
   ]
  },
  {
   "cell_type": "code",
   "execution_count": 13,
   "id": "207c38da-1507-42e1-b622-14b56d0b57cf",
   "metadata": {},
   "outputs": [
    {
     "data": {
      "image/png": "[encoded data removed]",
      "text/plain": [
       "<IPython.core.display.Image object>"
      ]
     },
     "metadata": {},
     "output_type": "display_data"
    }
   ],
   "source": [
    "model.show_graph()"
   ]
  },
  {
   "cell_type": "code",
   "execution_count": 14,
   "id": "d6ff028b-d582-4623-b18b-3bd4372c069c",
   "metadata": {},
   "outputs": [
    {
     "data": {
      "text/plain": [
       "'a3'"
      ]
     },
     "execution_count": 14,
     "metadata": {},
     "output_type": "execute_result"
    }
   ],
   "source": [
    "model.z2()\n",
    "model.state"
   ]
  },
  {
   "cell_type": "code",
   "execution_count": 15,
   "id": "2302d87a-1f83-4413-b0d2-37eeb584bf51",
   "metadata": {},
   "outputs": [
    {
     "data": {
      "text/plain": [
       "'a1'"
      ]
     },
     "execution_count": 15,
     "metadata": {},
     "output_type": "execute_result"
    }
   ],
   "source": [
    "model.z1()\n",
    "model.state"
   ]
  },
  {
   "cell_type": "markdown",
   "id": "5c478be8-4e38-4c11-bf3a-ffc4f34b77e5",
   "metadata": {},
   "source": [
    "## Запуск АА на заданном входном слове"
   ]
  },
  {
   "cell_type": "code",
   "execution_count": 16,
   "id": "979fac78-32eb-4264-b531-5f8e0215579b",
   "metadata": {},
   "outputs": [
    {
     "data": {
      "text/plain": [
       "'a1'"
      ]
     },
     "execution_count": 16,
     "metadata": {},
     "output_type": "execute_result"
    }
   ],
   "source": [
    "model.input = [2, 1, 3, 2, 1, 3, 3, 3, 1]\n",
    "model.process()\n",
    "model.state"
   ]
  },
  {
   "cell_type": "code",
   "execution_count": 17,
   "id": "3aa4d3d0-bb27-4364-bfae-c9caae0a004c",
   "metadata": {},
   "outputs": [
    {
     "data": {
      "text/plain": [
       "array([['2', '1', '3', '2', '1', '3', '3', '3', '1'],\n",
       "       ['4', '2', '2', '5', '1', '1', '3', '3', '2']], dtype='<U21')"
      ]
     },
     "execution_count": 17,
     "metadata": {},
     "output_type": "execute_result"
    }
   ],
   "source": [
    "# Avstract Automat Input Output\n",
    "AAIO = np.array([model.input, model.output])\n",
    "AAIO"
   ]
  },
  {
   "cell_type": "markdown",
   "id": "19f0f6f8-856d-4113-986a-483b1c0d2910",
   "metadata": {},
   "source": [
    "## Преобразование АА в СА"
   ]
  },
  {
   "cell_type": "markdown",
   "id": "21183992-0128-4e33-ae4d-38023ff7eec2",
   "metadata": {},
   "source": [
    "### Кодирование входных, выходных сигналов и состояний\n",
    "--------------------------------------------------------------------------------\n",
    "\n",
    "Каждому из следующих множеств (компонентов) нашего *АА* ставится в соответствие\n",
    "некий двоичный вектор.\n",
    "\n",
    "Входные сигналы $Z$:\n",
    "\n",
    "$$\n",
    "z_f \\mapsto (e_{f1},...,e_{fl},...,e_{fL})\\ | \\ e_{fl} \\in \\{0, 1\\},\n",
    "z \\in Z, L = \\lceil log_2F \\rceil, F=|Z|\n",
    "$$\n",
    "\n",
    "Выходные сигналы $W$:\n",
    "\n",
    "$$\n",
    "w_g \\mapsto (e_{g1},...,e_{gn},...,e_{gN})\\ | \\ e_{gn} \\in \\{0, 1\\},\n",
    "w \\in W, N = \\lceil log_2G \\rceil, G=|W|\n",
    "$$\n",
    "\n",
    "Состояния $A$:\n",
    "\n",
    "$$\n",
    "a_m \\mapsto (e_{m1},...,e_{mr},...,e_{mR})\\ | \\ e_{mr} \\in \\{0, 1\\},\n",
    "a \\in A, R = \\lceil log_2M \\rceil, M=|A|\n",
    "$$\n",
    "\n",
    "Запись $\\lceil x \\rceil$ означает *потолок* (`ceil`) - ближайшее целое число\n",
    "большее или равно $x$.\n",
    "\n",
    "--------------------------------------------------------------------------------\n",
    "Для кодирования входных и выходных сигналов можно использовать обычный\n",
    "*разрядовый* двоичный код и [*кода Грея*][2]. При *разрядовом* двоичном\n",
    "кодировании соседние значения могут отличаться более чем на бит:\n",
    "\n",
    "$$\n",
    "\\begin{array}{c}\n",
    "    0000\\\\\n",
    "    0001\\\\\n",
    "    0010\\\\\n",
    "    0011\\\\\n",
    "    0100\\\\\n",
    "    ...\n",
    "\\end{array} \n",
    "$$\n",
    "\n",
    "К примеру разница между числом $01_{b}$ и $10_{b}$ два бита - младший и старший.\n",
    "Данная разница описывается термином [*расстояние Хэмминга*][1]:\n",
    "\n",
    "$$\n",
    "d_{ij} = \\sum_{k=1}^{p} |x_{ik}-x_{jk}|\n",
    "$$\n",
    "\n",
    "Соответственно при использовании *разрядового* кодирования в физической среде\n",
    "электрических сигналов растёт риск помех. Так же растёт сложность механизмов\n",
    "участвующих в кодировке и раскодировке этих сигналов. Несмотря на это\n",
    "предполагается, что *внешняя среда* относительно нашего *СА* достаточно развитая\n",
    "для такого взаимодействия. Так же возникает необходимость следовать стандартным\n",
    "интерфейсам. Следовательно входной и выходной алфавиты кодируются именно\n",
    "*разрядным* образом.\n",
    "\n",
    "Но переход между состояниями во *внутренней среде* нашего автомата лучше всего\n",
    "совершать с помощью *кода Грея*. В этом случае соседствующие значения всегда\n",
    "отличаются на один бит:\n",
    "\n",
    "$$\n",
    "\\begin{array}{c}\n",
    "    0000\\\\\n",
    "    0001\\\\\n",
    "    0011\\\\\n",
    "    0010\\\\\n",
    "    0110\\\\\n",
    "    ...\n",
    "\\end{array} \n",
    "$$\n",
    "\n",
    "Для перехода из *разрядного* в *код Грея* используется следующая формула, где\n",
    "$i$ это позиция бита:\n",
    "\n",
    "$$\n",
    "G_{i} = B_{i} \\oplus B_{i+1}\n",
    "$$\n",
    "\n",
    "--------------------------------------------------------------------------------\n",
    "Так же важно заметить следующее. При кодировке выходных сигналов, автор, в своём\n",
    "труде, сдвигает значения на единицу вверх отображая значения сигналов из\n",
    "алфавита $W$ в ряд натуральных чисел $\\mathbb{N}$. Это делается для того, чтобы\n",
    "зарезервировать значение $000$ для случая отсутствия сигнала:\n",
    "\n",
    "$$\n",
    "f : W \\mapsto \\mathbb{N}\n",
    "$$\n",
    "\n",
    "[1]: https://ru.wikipedia.org/wiki/Расстояние_Хэмминга\n",
    "[2]: https://ru.wikipedia.org/wiki/Код_Грея"
   ]
  },
  {
   "cell_type": "code",
   "execution_count": 18,
   "id": "e124ec6c-d39d-4ad6-aba4-8504c2393d9d",
   "metadata": {},
   "outputs": [],
   "source": [
    "def calcBinArrLen(x):\n",
    "    return math.ceil(math.log2(x))"
   ]
  },
  {
   "cell_type": "code",
   "execution_count": 19,
   "id": "5d89b636-6bf3-4937-bf04-9be868ee11d2",
   "metadata": {},
   "outputs": [],
   "source": [
    "def buildColumns(vectorLen, prefix):\n",
    "    return [prefix + str(x + 1) for x in range(vectorLen)]"
   ]
  },
  {
   "cell_type": "code",
   "execution_count": 20,
   "id": "48fe8061-2045-48a1-87fa-5f2c2498f524",
   "metadata": {},
   "outputs": [],
   "source": [
    "def encodeSignals(abcLength, addOne=False, gray=False):\n",
    "    vectorLength = calcBinArrLen(abcLength)\n",
    "    signalsBin = np.zeros(\n",
    "        [abcLength, vectorLength],\n",
    "        dtype = np.dtype(bool))\n",
    "    for i in range(abcLength):\n",
    "        for n in range(vectorLength):\n",
    "            inputSignal = i\n",
    "            if addOne:\n",
    "                inputSignal = inputSignal + 1\n",
    "            if gray:\n",
    "                inputSignal = inputSignal ^ (inputSignal >> 1)\n",
    "            bit = inputSignal & (0x1 << (vectorLength - 1 - n))\n",
    "            bit = True if bit else False\n",
    "            signalsBin[i][n] = bit\n",
    "    return signalsBin"
   ]
  },
  {
   "cell_type": "code",
   "execution_count": 21,
   "id": "a3ecff73-4810-4924-84a9-1fb01807a0a0",
   "metadata": {},
   "outputs": [],
   "source": [
    "functions = {\n",
    "    'A': delta,\n",
    "    'W': lmbda\n",
    "}\n",
    "\n",
    "alphabets = {\n",
    "    'Z': events,\n",
    "    'W': signls,\n",
    "    'A': states\n",
    "}\n",
    "\n",
    "abcLengths = {\n",
    "    'Z': len(alphabets['Z']),\n",
    "    'W': len(alphabets['W']),\n",
    "    'A': len(alphabets['A'])\n",
    "}\n",
    "\n",
    "# Создаём массив закодированных векторов входного и выходного алфавитов, а так же алфавита состояний\n",
    "vectors = {\n",
    "    'Z': encodeSignals(abcLengths['Z']),\n",
    "    'W': encodeSignals(abcLengths['W'], addOne=True),\n",
    "    'A': encodeSignals(abcLengths['A'], gray=True)\n",
    "}\n",
    "\n",
    "vecLengths = {\n",
    "    'Z': vectors['Z'].shape[1],\n",
    "    'W': vectors['W'].shape[1],\n",
    "    'A': vectors['A'].shape[1]\n",
    "}\n",
    "\n",
    "contactNames = {\n",
    "    'Z': buildColumns(vecLengths['Z'], 'x'),\n",
    "    'W': buildColumns(vecLengths['W'], 'y'),\n",
    "    'A': buildColumns(vecLengths['A'], 'Q')\n",
    "}"
   ]
  },
  {
   "cell_type": "code",
   "execution_count": 22,
   "id": "a0711cce-87c9-465c-ac92-e44c991c3848",
   "metadata": {},
   "outputs": [],
   "source": [
    "def makeVectorFrame(letter):\n",
    "    return pd.DataFrame(\n",
    "        vectors[letter],\n",
    "        columns=contactNames[letter],\n",
    "        index=alphabets[letter])"
   ]
  },
  {
   "cell_type": "code",
   "execution_count": 23,
   "id": "03cfe6f8-aa8b-4381-9340-9aa1088fcdaf",
   "metadata": {},
   "outputs": [
    {
     "data": {
      "text/html": [
       "<div>\n",
       "<style scoped>\n",
       "    .dataframe tbody tr th:only-of-type {\n",
       "        vertical-align: middle;\n",
       "    }\n",
       "\n",
       "    .dataframe tbody tr th {\n",
       "        vertical-align: top;\n",
       "    }\n",
       "\n",
       "    .dataframe thead th {\n",
       "        text-align: right;\n",
       "    }\n",
       "</style>\n",
       "<table border=\"1\" class=\"dataframe\">\n",
       "  <thead>\n",
       "    <tr style=\"text-align: right;\">\n",
       "      <th></th>\n",
       "      <th>x1</th>\n",
       "      <th>x2</th>\n",
       "    </tr>\n",
       "  </thead>\n",
       "  <tbody>\n",
       "    <tr>\n",
       "      <th>z1</th>\n",
       "      <td>False</td>\n",
       "      <td>False</td>\n",
       "    </tr>\n",
       "    <tr>\n",
       "      <th>z2</th>\n",
       "      <td>False</td>\n",
       "      <td>True</td>\n",
       "    </tr>\n",
       "    <tr>\n",
       "      <th>z3</th>\n",
       "      <td>True</td>\n",
       "      <td>False</td>\n",
       "    </tr>\n",
       "  </tbody>\n",
       "</table>\n",
       "</div>"
      ],
      "text/plain": [
       "       x1     x2\n",
       "z1  False  False\n",
       "z2  False   True\n",
       "z3   True  False"
      ]
     },
     "execution_count": 23,
     "metadata": {},
     "output_type": "execute_result"
    }
   ],
   "source": [
    "makeVectorFrame('Z')"
   ]
  },
  {
   "cell_type": "code",
   "execution_count": 24,
   "id": "73411ca1-8fe6-42c9-b758-3b32a1bf4b88",
   "metadata": {},
   "outputs": [
    {
     "data": {
      "text/html": [
       "<div>\n",
       "<style scoped>\n",
       "    .dataframe tbody tr th:only-of-type {\n",
       "        vertical-align: middle;\n",
       "    }\n",
       "\n",
       "    .dataframe tbody tr th {\n",
       "        vertical-align: top;\n",
       "    }\n",
       "\n",
       "    .dataframe thead th {\n",
       "        text-align: right;\n",
       "    }\n",
       "</style>\n",
       "<table border=\"1\" class=\"dataframe\">\n",
       "  <thead>\n",
       "    <tr style=\"text-align: right;\">\n",
       "      <th></th>\n",
       "      <th>y1</th>\n",
       "      <th>y2</th>\n",
       "      <th>y3</th>\n",
       "    </tr>\n",
       "  </thead>\n",
       "  <tbody>\n",
       "    <tr>\n",
       "      <th>w1</th>\n",
       "      <td>False</td>\n",
       "      <td>False</td>\n",
       "      <td>True</td>\n",
       "    </tr>\n",
       "    <tr>\n",
       "      <th>w2</th>\n",
       "      <td>False</td>\n",
       "      <td>True</td>\n",
       "      <td>False</td>\n",
       "    </tr>\n",
       "    <tr>\n",
       "      <th>w3</th>\n",
       "      <td>False</td>\n",
       "      <td>True</td>\n",
       "      <td>True</td>\n",
       "    </tr>\n",
       "    <tr>\n",
       "      <th>w4</th>\n",
       "      <td>True</td>\n",
       "      <td>False</td>\n",
       "      <td>False</td>\n",
       "    </tr>\n",
       "    <tr>\n",
       "      <th>w5</th>\n",
       "      <td>True</td>\n",
       "      <td>False</td>\n",
       "      <td>True</td>\n",
       "    </tr>\n",
       "  </tbody>\n",
       "</table>\n",
       "</div>"
      ],
      "text/plain": [
       "       y1     y2     y3\n",
       "w1  False  False   True\n",
       "w2  False   True  False\n",
       "w3  False   True   True\n",
       "w4   True  False  False\n",
       "w5   True  False   True"
      ]
     },
     "execution_count": 24,
     "metadata": {},
     "output_type": "execute_result"
    }
   ],
   "source": [
    "makeVectorFrame('W')"
   ]
  },
  {
   "cell_type": "code",
   "execution_count": 25,
   "id": "069c3957-f202-43c1-84b5-3f4e5e3b0152",
   "metadata": {},
   "outputs": [
    {
     "data": {
      "text/html": [
       "<div>\n",
       "<style scoped>\n",
       "    .dataframe tbody tr th:only-of-type {\n",
       "        vertical-align: middle;\n",
       "    }\n",
       "\n",
       "    .dataframe tbody tr th {\n",
       "        vertical-align: top;\n",
       "    }\n",
       "\n",
       "    .dataframe thead th {\n",
       "        text-align: right;\n",
       "    }\n",
       "</style>\n",
       "<table border=\"1\" class=\"dataframe\">\n",
       "  <thead>\n",
       "    <tr style=\"text-align: right;\">\n",
       "      <th></th>\n",
       "      <th>Q1</th>\n",
       "      <th>Q2</th>\n",
       "    </tr>\n",
       "  </thead>\n",
       "  <tbody>\n",
       "    <tr>\n",
       "      <th>a1</th>\n",
       "      <td>False</td>\n",
       "      <td>False</td>\n",
       "    </tr>\n",
       "    <tr>\n",
       "      <th>a2</th>\n",
       "      <td>False</td>\n",
       "      <td>True</td>\n",
       "    </tr>\n",
       "    <tr>\n",
       "      <th>a3</th>\n",
       "      <td>True</td>\n",
       "      <td>True</td>\n",
       "    </tr>\n",
       "  </tbody>\n",
       "</table>\n",
       "</div>"
      ],
      "text/plain": [
       "       Q1     Q2\n",
       "a1  False  False\n",
       "a2  False   True\n",
       "a3   True   True"
      ]
     },
     "execution_count": 25,
     "metadata": {},
     "output_type": "execute_result"
    }
   ],
   "source": [
    "makeVectorFrame('A')"
   ]
  },
  {
   "cell_type": "markdown",
   "id": "d1a0ae0d-d6ad-4482-8227-945fcad382d4",
   "metadata": {},
   "source": [
    "### Канонический метод структурного синтеза\n",
    "\n",
    "--------------------------------------------------------------------------------\n",
    "При каноническом (стандартном) методе структурного синтеза автомат представляют\n",
    "в виде двух частей: памяти (П) и комбинационной схемы (КС). КС состоит из\n",
    "логических элементов, а память из автоматов памяти. Элементарными автоматами\n",
    "памяти являются триггерные схемы.\n",
    "\n",
    "![ConceptualScheme](img/CS.png \"Концептуальная схема\")\n",
    "\n",
    "**Теорема о структурной полноте**\n",
    "\n",
    "> Любая система элементарных автоматов, содержащая автомат Мура\n",
    "> (обладающий полнотой переходов и полнотой выходов) и какую-либо функционально\n",
    "> полную систему логических элементов, является структурно полной\n",
    "\n",
    "$$\n",
    "\\forall (a_i, a_j) \\in A\\ \\exists z_k \\in Z\\ |\\ \\delta (z_k, a_i) \\mapsto a_j\n",
    "$$\n",
    "\n",
    "Задача синтеза автомата сводится к нахождению функций:\n",
    "\n",
    "$$\n",
    "U_r = U_r(Q_1,..., Q_R, x_1,..., x_L), r = 1,..., R\n",
    "$$\n",
    "\n",
    "$$\n",
    "y_n = y_n(Q_1,..., Q_R, x_1,..., x_L), n = 1,..., N\n",
    "$$"
   ]
  },
  {
   "cell_type": "markdown",
   "id": "d63c5a77-8cee-45a0-af9d-b92e8fb35555",
   "metadata": {},
   "source": [
    "### Моделирование ячейки памяти\n",
    "\n",
    "--------------------------------------------------------------------------------\n",
    "Далее вариант триггера в модели абстрактного автомата. $b_{1,2}$ это состояния\n",
    "ячеёки памяти, а $q_{1,2}$ это входные сигналы автомата.\n",
    "\n",
    "Сигнал $q_1$ скорее всего лишний в перспективе *АА*, но необходим для его\n",
    "перевода в *СА*. Это происходит за счёт того, что мы кодируем $q_1$ и $q_2$ в\n",
    "$0$ и $1$ соответственно. Как известно на уровне *КС* в каждой точке схемы\n",
    "должен присутствовать какой то сигнал: $0$ или $1$. Соответственно нам неизбежно\n",
    "необходим $q_1$. Модель ниже реализует принцип `T` триггера работающего по\n",
    "следующему закону:\n",
    "\n",
    "$$\n",
    "Q^{t+1}=Q^t \\oplus T\n",
    "$$"
   ]
  },
  {
   "cell_type": "code",
   "execution_count": 26,
   "id": "68e5d341-a04f-4f3e-8395-aed413c2e27f",
   "metadata": {},
   "outputs": [
    {
     "data": {
      "text/html": [
       "<div>\n",
       "<style scoped>\n",
       "    .dataframe tbody tr th:only-of-type {\n",
       "        vertical-align: middle;\n",
       "    }\n",
       "\n",
       "    .dataframe tbody tr th {\n",
       "        vertical-align: top;\n",
       "    }\n",
       "\n",
       "    .dataframe thead th {\n",
       "        text-align: right;\n",
       "    }\n",
       "</style>\n",
       "<table border=\"1\" class=\"dataframe\">\n",
       "  <thead>\n",
       "    <tr style=\"text-align: right;\">\n",
       "      <th></th>\n",
       "      <th>b1</th>\n",
       "      <th>b2</th>\n",
       "    </tr>\n",
       "  </thead>\n",
       "  <tbody>\n",
       "    <tr>\n",
       "      <th>q1</th>\n",
       "      <td>b1</td>\n",
       "      <td>b2</td>\n",
       "    </tr>\n",
       "    <tr>\n",
       "      <th>q2</th>\n",
       "      <td>b2</td>\n",
       "      <td>b1</td>\n",
       "    </tr>\n",
       "  </tbody>\n",
       "</table>\n",
       "</div>"
      ],
      "text/plain": [
       "    b1  b2\n",
       "q1  b1  b2\n",
       "q2  b2  b1"
      ]
     },
     "execution_count": 26,
     "metadata": {},
     "output_type": "execute_result"
    }
   ],
   "source": [
    "pd.DataFrame(\n",
    "    [['b1', 'b2'], ['b2', 'b1']],\n",
    "    columns=['b1', 'b2'],\n",
    "    index=['q1', 'q2'])"
   ]
  },
  {
   "cell_type": "markdown",
   "id": "43544932-9832-41bc-ae1a-9f3f854bec79",
   "metadata": {},
   "source": [
    "--------------------------------------------------------------------------------\n",
    "Необходимо перейти к СА. Для этого закодируем входные и выходные состояния\n",
    "автомата"
   ]
  },
  {
   "cell_type": "code",
   "execution_count": 27,
   "id": "f4e4c3b4-17a9-4edf-8911-998281fbae87",
   "metadata": {},
   "outputs": [
    {
     "data": {
      "text/html": [
       "<div>\n",
       "<style scoped>\n",
       "    .dataframe tbody tr th:only-of-type {\n",
       "        vertical-align: middle;\n",
       "    }\n",
       "\n",
       "    .dataframe tbody tr th {\n",
       "        vertical-align: top;\n",
       "    }\n",
       "\n",
       "    .dataframe thead th {\n",
       "        text-align: right;\n",
       "    }\n",
       "</style>\n",
       "<table border=\"1\" class=\"dataframe\">\n",
       "  <thead>\n",
       "    <tr style=\"text-align: right;\">\n",
       "      <th></th>\n",
       "      <th>U</th>\n",
       "    </tr>\n",
       "  </thead>\n",
       "  <tbody>\n",
       "    <tr>\n",
       "      <th>q1</th>\n",
       "      <td>False</td>\n",
       "    </tr>\n",
       "    <tr>\n",
       "      <th>q2</th>\n",
       "      <td>True</td>\n",
       "    </tr>\n",
       "  </tbody>\n",
       "</table>\n",
       "</div>"
      ],
      "text/plain": [
       "        U\n",
       "q1  False\n",
       "q2   True"
      ]
     },
     "execution_count": 27,
     "metadata": {},
     "output_type": "execute_result"
    }
   ],
   "source": [
    "pd.DataFrame(\n",
    "    [[False], [True]],\n",
    "    columns=['U'],\n",
    "    index=['q1', 'q2'])"
   ]
  },
  {
   "cell_type": "code",
   "execution_count": 28,
   "id": "7b0469e3-0a66-4ba3-b774-4607237db101",
   "metadata": {},
   "outputs": [
    {
     "data": {
      "text/html": [
       "<div>\n",
       "<style scoped>\n",
       "    .dataframe tbody tr th:only-of-type {\n",
       "        vertical-align: middle;\n",
       "    }\n",
       "\n",
       "    .dataframe tbody tr th {\n",
       "        vertical-align: top;\n",
       "    }\n",
       "\n",
       "    .dataframe thead th {\n",
       "        text-align: right;\n",
       "    }\n",
       "</style>\n",
       "<table border=\"1\" class=\"dataframe\">\n",
       "  <thead>\n",
       "    <tr style=\"text-align: right;\">\n",
       "      <th></th>\n",
       "      <th>Q</th>\n",
       "    </tr>\n",
       "  </thead>\n",
       "  <tbody>\n",
       "    <tr>\n",
       "      <th>b1</th>\n",
       "      <td>False</td>\n",
       "    </tr>\n",
       "    <tr>\n",
       "      <th>b2</th>\n",
       "      <td>True</td>\n",
       "    </tr>\n",
       "  </tbody>\n",
       "</table>\n",
       "</div>"
      ],
      "text/plain": [
       "        Q\n",
       "b1  False\n",
       "b2   True"
      ]
     },
     "execution_count": 28,
     "metadata": {},
     "output_type": "execute_result"
    }
   ],
   "source": [
    "pd.DataFrame(\n",
    "    [[False], [True]],\n",
    "    columns=['Q'],\n",
    "    index=['b1', 'b2'])"
   ]
  },
  {
   "cell_type": "markdown",
   "id": "d58f9c66-f41c-4e59-b864-847fb8e57319",
   "metadata": {},
   "source": [
    "--------------------------------------------------------------------------------\n",
    "На основании предыдущих таблиц строим структурную таблицу, описывающую\n",
    "функционирование автомата памяти. С этого этапа переводим логические значения в\n",
    "целочисленные. По оси абсцисс у нас располагаются выходные значения массива\n",
    "триггеров, а по оси ординат входные."
   ]
  },
  {
   "cell_type": "code",
   "execution_count": 29,
   "id": "f569b4aa-50a7-4099-a8cb-5c42df81a526",
   "metadata": {},
   "outputs": [],
   "source": [
    "functionT = np.array([[0, 1], [1, 0]], dtype=int)"
   ]
  },
  {
   "cell_type": "code",
   "execution_count": 30,
   "id": "b32f71f5-24d4-404b-a9d6-18375c1c9543",
   "metadata": {},
   "outputs": [
    {
     "data": {
      "text/html": [
       "<div>\n",
       "<style scoped>\n",
       "    .dataframe tbody tr th:only-of-type {\n",
       "        vertical-align: middle;\n",
       "    }\n",
       "\n",
       "    .dataframe tbody tr th {\n",
       "        vertical-align: top;\n",
       "    }\n",
       "\n",
       "    .dataframe thead th {\n",
       "        text-align: right;\n",
       "    }\n",
       "</style>\n",
       "<table border=\"1\" class=\"dataframe\">\n",
       "  <thead>\n",
       "    <tr style=\"text-align: right;\">\n",
       "      <th></th>\n",
       "      <th>0</th>\n",
       "      <th>1</th>\n",
       "    </tr>\n",
       "  </thead>\n",
       "  <tbody>\n",
       "    <tr>\n",
       "      <th>0</th>\n",
       "      <td>0</td>\n",
       "      <td>1</td>\n",
       "    </tr>\n",
       "    <tr>\n",
       "      <th>1</th>\n",
       "      <td>1</td>\n",
       "      <td>0</td>\n",
       "    </tr>\n",
       "  </tbody>\n",
       "</table>\n",
       "</div>"
      ],
      "text/plain": [
       "   0  1\n",
       "0  0  1\n",
       "1  1  0"
      ]
     },
     "execution_count": 30,
     "metadata": {},
     "output_type": "execute_result"
    }
   ],
   "source": [
    "pd.DataFrame(\n",
    "    functionT,\n",
    "    columns=[0, 1],\n",
    "    index=[0, 1])"
   ]
  },
  {
   "cell_type": "markdown",
   "id": "20ebcc68-873d-492c-93a3-ca7bbf9437fb",
   "metadata": {},
   "source": [
    "### Кодируем таблицы переходов\n",
    "\n",
    "* $Q_1Q_2$ представляют состояние $a_m$\n",
    "* $x_1x_2$ представляют входной сигнал $z_f$\n",
    "* $y_1y_2y_3$ представляют выходной сигнал $w_g$\n",
    "\n",
    "Таки образом получаем функции переходов следующего вида:\n",
    "\n",
    "* $y_1y_2y_3 = \\lambda (Q_1, Q_2, x_1, x_2)$\n",
    "* $Q_1Q_2 = \\delta (Q_1, Q_2, x_1, x_2)$"
   ]
  },
  {
   "cell_type": "code",
   "execution_count": 31,
   "id": "d5786482-d138-43de-9e1e-465add849399",
   "metadata": {},
   "outputs": [
    {
     "data": {
      "text/html": [
       "<div>\n",
       "<style scoped>\n",
       "    .dataframe tbody tr th:only-of-type {\n",
       "        vertical-align: middle;\n",
       "    }\n",
       "\n",
       "    .dataframe tbody tr th {\n",
       "        vertical-align: top;\n",
       "    }\n",
       "\n",
       "    .dataframe thead th {\n",
       "        text-align: right;\n",
       "    }\n",
       "</style>\n",
       "<table border=\"1\" class=\"dataframe\">\n",
       "  <thead>\n",
       "    <tr style=\"text-align: right;\">\n",
       "      <th></th>\n",
       "      <th>a1</th>\n",
       "      <th>a2</th>\n",
       "      <th>a3</th>\n",
       "    </tr>\n",
       "  </thead>\n",
       "  <tbody>\n",
       "    <tr>\n",
       "      <th>z1</th>\n",
       "      <td>a2</td>\n",
       "      <td></td>\n",
       "      <td>a1</td>\n",
       "    </tr>\n",
       "    <tr>\n",
       "      <th>z2</th>\n",
       "      <td>a3</td>\n",
       "      <td>a1</td>\n",
       "      <td></td>\n",
       "    </tr>\n",
       "    <tr>\n",
       "      <th>z3</th>\n",
       "      <td>a2</td>\n",
       "      <td>a3</td>\n",
       "      <td>a3</td>\n",
       "    </tr>\n",
       "  </tbody>\n",
       "</table>\n",
       "</div>"
      ],
      "text/plain": [
       "    a1  a2  a3\n",
       "z1  a2      a1\n",
       "z2  a3  a1    \n",
       "z3  a2  a3  a3"
      ]
     },
     "execution_count": 31,
     "metadata": {},
     "output_type": "execute_result"
    }
   ],
   "source": [
    "# Исконная таблица переходов\n",
    "deltaFr"
   ]
  },
  {
   "cell_type": "code",
   "execution_count": 32,
   "id": "ebd76251-45b7-4a3e-9b5e-122b8bb903b5",
   "metadata": {},
   "outputs": [],
   "source": [
    "def makeTensor(fn, x, vectorX):\n",
    "    rows = fn.shape[0]\n",
    "    cols = fn.shape[1]\n",
    "    levs = vectorX.shape[1]\n",
    "\n",
    "    arrBinShape = (rows, cols, levs)\n",
    "    arrBin = np.zeros(arrBinShape, dtype=int)\n",
    "\n",
    "    for i in range(rows):\n",
    "        for j in range(cols):\n",
    "            y = fn[i][j]\n",
    "            if y:\n",
    "                xInx = x.index(y)\n",
    "                xBin = vectorX[xInx]\n",
    "                arrBin[i][j] = xBin.astype(int)\n",
    "            else:\n",
    "                arrBin[i][j] = np.empty((levs,))\n",
    "                arrBin[i][j][:] = -1\n",
    "    return arrBin"
   ]
  },
  {
   "cell_type": "code",
   "execution_count": 33,
   "id": "d6d4a8bf-c6aa-4982-bd53-381117cff6d7",
   "metadata": {},
   "outputs": [],
   "source": [
    "def makeVectorBin(letter):\n",
    "    fn = functions[letter]\n",
    "    x = alphabets[letter]\n",
    "    vectorX = vectors[letter]\n",
    "    return makeTensor(fn, x, vectorX)"
   ]
  },
  {
   "cell_type": "code",
   "execution_count": 34,
   "id": "c2aab8fe-e538-478f-b7a6-5a32aad015a3",
   "metadata": {},
   "outputs": [],
   "source": [
    "functionsBin = {\n",
    "    'A': makeVectorBin('A'),\n",
    "    'W': makeVectorBin('W')\n",
    "}"
   ]
  },
  {
   "cell_type": "code",
   "execution_count": 35,
   "id": "895ace35-04de-4f85-bd8a-4029f836e884",
   "metadata": {},
   "outputs": [],
   "source": [
    "def binToStr(arr):\n",
    "    #print(arr)\n",
    "    strVal = ''\n",
    "    for x in arr:\n",
    "        strVal = strVal + str(int(x))\n",
    "    #print(strVal)\n",
    "    return strVal\n",
    "\n",
    "def binToStrVec(arr):\n",
    "    vecStr = []\n",
    "    for row in arr:\n",
    "        arrStr = binToStr(row)\n",
    "        vecStr.append(arrStr)\n",
    "    return vecStr\n",
    "\n",
    "def makeVectorBinFrame(fn, xAxis, yAsix):\n",
    "    vecBinArr = []\n",
    "\n",
    "    rows = fn.shape[0]\n",
    "    cols = fn.shape[1]\n",
    "    \n",
    "    for i in range(rows):\n",
    "        vecBinRow = []\n",
    "        for j in range(cols):\n",
    "            intArr = fn[i][j];\n",
    "            if (intArr[0] != -1):\n",
    "                toStr = binToStr(intArr)\n",
    "                vecBinRow.append(toStr)\n",
    "            else:\n",
    "                vecBinRow.append('')\n",
    "        vecBinArr.append(vecBinRow)\n",
    "\n",
    "    return pd.DataFrame(\n",
    "        vecBinArr,\n",
    "        columns=binToStrVec(xAxis),\n",
    "        index=binToStrVec(yAsix))"
   ]
  },
  {
   "cell_type": "code",
   "execution_count": 36,
   "id": "e9e3ced4-d885-489b-a886-46bac6adf1e6",
   "metadata": {},
   "outputs": [
    {
     "data": {
      "text/html": [
       "<div>\n",
       "<style scoped>\n",
       "    .dataframe tbody tr th:only-of-type {\n",
       "        vertical-align: middle;\n",
       "    }\n",
       "\n",
       "    .dataframe tbody tr th {\n",
       "        vertical-align: top;\n",
       "    }\n",
       "\n",
       "    .dataframe thead th {\n",
       "        text-align: right;\n",
       "    }\n",
       "</style>\n",
       "<table border=\"1\" class=\"dataframe\">\n",
       "  <thead>\n",
       "    <tr style=\"text-align: right;\">\n",
       "      <th></th>\n",
       "      <th>a1</th>\n",
       "      <th>a2</th>\n",
       "      <th>a3</th>\n",
       "    </tr>\n",
       "  </thead>\n",
       "  <tbody>\n",
       "    <tr>\n",
       "      <th>z1</th>\n",
       "      <td>a2</td>\n",
       "      <td></td>\n",
       "      <td>a1</td>\n",
       "    </tr>\n",
       "    <tr>\n",
       "      <th>z2</th>\n",
       "      <td>a3</td>\n",
       "      <td>a1</td>\n",
       "      <td></td>\n",
       "    </tr>\n",
       "    <tr>\n",
       "      <th>z3</th>\n",
       "      <td>a2</td>\n",
       "      <td>a3</td>\n",
       "      <td>a3</td>\n",
       "    </tr>\n",
       "  </tbody>\n",
       "</table>\n",
       "</div>"
      ],
      "text/plain": [
       "    a1  a2  a3\n",
       "z1  a2      a1\n",
       "z2  a3  a1    \n",
       "z3  a2  a3  a3"
      ]
     },
     "execution_count": 36,
     "metadata": {},
     "output_type": "execute_result"
    }
   ],
   "source": [
    "deltaFr"
   ]
  },
  {
   "cell_type": "code",
   "execution_count": 37,
   "id": "b8234015-c1e2-4957-9663-6c339dfa0d83",
   "metadata": {},
   "outputs": [
    {
     "data": {
      "text/html": [
       "<div>\n",
       "<style scoped>\n",
       "    .dataframe tbody tr th:only-of-type {\n",
       "        vertical-align: middle;\n",
       "    }\n",
       "\n",
       "    .dataframe tbody tr th {\n",
       "        vertical-align: top;\n",
       "    }\n",
       "\n",
       "    .dataframe thead th {\n",
       "        text-align: right;\n",
       "    }\n",
       "</style>\n",
       "<table border=\"1\" class=\"dataframe\">\n",
       "  <thead>\n",
       "    <tr style=\"text-align: right;\">\n",
       "      <th></th>\n",
       "      <th>00</th>\n",
       "      <th>01</th>\n",
       "      <th>11</th>\n",
       "    </tr>\n",
       "  </thead>\n",
       "  <tbody>\n",
       "    <tr>\n",
       "      <th>00</th>\n",
       "      <td>01</td>\n",
       "      <td></td>\n",
       "      <td>00</td>\n",
       "    </tr>\n",
       "    <tr>\n",
       "      <th>01</th>\n",
       "      <td>11</td>\n",
       "      <td>00</td>\n",
       "      <td></td>\n",
       "    </tr>\n",
       "    <tr>\n",
       "      <th>10</th>\n",
       "      <td>01</td>\n",
       "      <td>11</td>\n",
       "      <td>11</td>\n",
       "    </tr>\n",
       "  </tbody>\n",
       "</table>\n",
       "</div>"
      ],
      "text/plain": [
       "    00  01  11\n",
       "00  01      00\n",
       "01  11  00    \n",
       "10  01  11  11"
      ]
     },
     "execution_count": 37,
     "metadata": {},
     "output_type": "execute_result"
    }
   ],
   "source": [
    "deltaBinFr = makeVectorBinFrame(\n",
    "    functionsBin['A'],\n",
    "    vectors['A'],\n",
    "    vectors['Z'])\n",
    "deltaBinFr"
   ]
  },
  {
   "cell_type": "code",
   "execution_count": 38,
   "id": "4c689f9c-0ddb-47ed-8f28-bfaaae633efc",
   "metadata": {},
   "outputs": [
    {
     "data": {
      "text/html": [
       "<div>\n",
       "<style scoped>\n",
       "    .dataframe tbody tr th:only-of-type {\n",
       "        vertical-align: middle;\n",
       "    }\n",
       "\n",
       "    .dataframe tbody tr th {\n",
       "        vertical-align: top;\n",
       "    }\n",
       "\n",
       "    .dataframe thead th {\n",
       "        text-align: right;\n",
       "    }\n",
       "</style>\n",
       "<table border=\"1\" class=\"dataframe\">\n",
       "  <thead>\n",
       "    <tr style=\"text-align: right;\">\n",
       "      <th></th>\n",
       "      <th>a1</th>\n",
       "      <th>a2</th>\n",
       "      <th>a3</th>\n",
       "    </tr>\n",
       "  </thead>\n",
       "  <tbody>\n",
       "    <tr>\n",
       "      <th>z1</th>\n",
       "      <td>w1</td>\n",
       "      <td></td>\n",
       "      <td>w2</td>\n",
       "    </tr>\n",
       "    <tr>\n",
       "      <th>z2</th>\n",
       "      <td>w4</td>\n",
       "      <td>w5</td>\n",
       "      <td></td>\n",
       "    </tr>\n",
       "    <tr>\n",
       "      <th>z3</th>\n",
       "      <td>w2</td>\n",
       "      <td>w1</td>\n",
       "      <td>w3</td>\n",
       "    </tr>\n",
       "  </tbody>\n",
       "</table>\n",
       "</div>"
      ],
      "text/plain": [
       "    a1  a2  a3\n",
       "z1  w1      w2\n",
       "z2  w4  w5    \n",
       "z3  w2  w1  w3"
      ]
     },
     "execution_count": 38,
     "metadata": {},
     "output_type": "execute_result"
    }
   ],
   "source": [
    "lmbdaFr"
   ]
  },
  {
   "cell_type": "code",
   "execution_count": 39,
   "id": "5164a5c0-9320-4194-ba20-0db6fe51fd4e",
   "metadata": {},
   "outputs": [
    {
     "data": {
      "text/html": [
       "<div>\n",
       "<style scoped>\n",
       "    .dataframe tbody tr th:only-of-type {\n",
       "        vertical-align: middle;\n",
       "    }\n",
       "\n",
       "    .dataframe tbody tr th {\n",
       "        vertical-align: top;\n",
       "    }\n",
       "\n",
       "    .dataframe thead th {\n",
       "        text-align: right;\n",
       "    }\n",
       "</style>\n",
       "<table border=\"1\" class=\"dataframe\">\n",
       "  <thead>\n",
       "    <tr style=\"text-align: right;\">\n",
       "      <th></th>\n",
       "      <th>00</th>\n",
       "      <th>01</th>\n",
       "      <th>11</th>\n",
       "    </tr>\n",
       "  </thead>\n",
       "  <tbody>\n",
       "    <tr>\n",
       "      <th>00</th>\n",
       "      <td>001</td>\n",
       "      <td></td>\n",
       "      <td>010</td>\n",
       "    </tr>\n",
       "    <tr>\n",
       "      <th>01</th>\n",
       "      <td>100</td>\n",
       "      <td>101</td>\n",
       "      <td></td>\n",
       "    </tr>\n",
       "    <tr>\n",
       "      <th>10</th>\n",
       "      <td>010</td>\n",
       "      <td>001</td>\n",
       "      <td>011</td>\n",
       "    </tr>\n",
       "  </tbody>\n",
       "</table>\n",
       "</div>"
      ],
      "text/plain": [
       "     00   01   11\n",
       "00  001       010\n",
       "01  100  101     \n",
       "10  010  001  011"
      ]
     },
     "execution_count": 39,
     "metadata": {},
     "output_type": "execute_result"
    }
   ],
   "source": [
    "lmbdaBinFr = makeVectorBinFrame(\n",
    "    functionsBin['W'],\n",
    "    vectors['A'],\n",
    "    vectors['Z'])\n",
    "lmbdaBinFr"
   ]
  },
  {
   "cell_type": "markdown",
   "id": "44b8ee83-8d5a-41e0-a12e-22d14e8afd05",
   "metadata": {},
   "source": [
    "### Вычисление таблиц истинности выходов КС\n",
    "\n",
    "--------------------------------------------------------------------------------\n",
    "Вычисляем функцию $\\lambda$:\n",
    "\n",
    "$$\n",
    "y_1y_2y_3 = \\lambda (Q_1, Q_2, x_1, x_2)\n",
    "$$\n",
    "\n",
    "Для построения таблицы истинности, нам нужно преобразовать таблицу функции\n",
    "$\\lambda$ в таблицу истинности непрерывной возрастающей вариации значений\n",
    "переменных $Q_1, Q_1, x_1, x_2$. Учитывая, что $Q_1$ и $Q_1$ закодированы\n",
    "*кодом Грея*, нам необходимо восполнить отсутствующие *разрядные* значения.\n",
    "\n",
    "Имея двумерный вектор булевых значений, нам нужно перевести последнюю строку\n",
    "$S \\in \\mathbb{B}$ в целочисленное значение $n$. Перевод осуществляется по формуле:\n",
    "\n",
    "$$\n",
    "n = \\sum_{i=0}^{|S|} 2^i S_i\n",
    "$$"
   ]
  },
  {
   "cell_type": "code",
   "execution_count": 40,
   "id": "f08617f7-d191-4198-a760-8f35d2797c41",
   "metadata": {},
   "outputs": [
    {
     "data": {
      "text/plain": [
       "array([[False, False],\n",
       "       [False,  True],\n",
       "       [ True, False],\n",
       "       [ True,  True]])"
      ]
     },
     "execution_count": 40,
     "metadata": {},
     "output_type": "execute_result"
    }
   ],
   "source": [
    "last = vectors['A'][-1] # S\n",
    "\n",
    "i = 0                   # i\n",
    "lastIntVal = 0          # n\n",
    "for base in last:\n",
    "    multiplier = int(math.pow(2, i))\n",
    "    lastIntVal = lastIntVal + base * multiplier\n",
    "    i = i + 1\n",
    "vectorAFull = encodeSignals(lastIntVal + 1)\n",
    "vectorAFull"
   ]
  },
  {
   "cell_type": "code",
   "execution_count": 41,
   "id": "df4bc9de-459e-4102-8cc2-9057c2da33d8",
   "metadata": {},
   "outputs": [],
   "source": [
    "def expandFunctionTable(fnOld, fnNew):   \n",
    "    idxFull = 0 # Индекс столбца полного вектора состояний\n",
    "    idxOrig = 0 # Индекс оригинального столбца вектора состояний\n",
    "    for colFull in vectorAFull:\n",
    "        colOrig = vectors['A'][idxOrig]\n",
    "        if (colFull == colOrig).all():\n",
    "            fnNew[:,idxFull] = fnOld[:,idxOrig]\n",
    "            idxOrig = idxOrig + 1\n",
    "        else:\n",
    "            fnNew[:,idxFull] = -1\n",
    "        idxFull = idxFull + 1"
   ]
  },
  {
   "cell_type": "code",
   "execution_count": 42,
   "id": "5ffa4148-026d-45e4-b065-809ae42e87dd",
   "metadata": {},
   "outputs": [],
   "source": [
    "# Строки: количество входных сигналов\n",
    "x = vectors['Z'].shape[0]\n",
    "# Столбцы: интервал бинарных вариаций включающий в себя закодированные состояния\n",
    "y = vectorAFull.shape[0]\n",
    "# Слои: количество бит необходимое для отображения выходного сигнала\n",
    "z = vectors['W'].shape[1]\n",
    "functionWBinFull = np.zeros((x, y, z), dtype=int)\n",
    "functionWBin = functionsBin['W'] # Для удобства"
   ]
  },
  {
   "cell_type": "code",
   "execution_count": 43,
   "id": "47ea6b35-c999-4ffd-bb4a-b560bcb6d71a",
   "metadata": {},
   "outputs": [],
   "source": [
    "expandFunctionTable(functionWBin, functionWBinFull)"
   ]
  },
  {
   "cell_type": "code",
   "execution_count": 44,
   "id": "d9d56bb6-51eb-42f0-a686-1e2f3c45563f",
   "metadata": {},
   "outputs": [
    {
     "data": {
      "text/html": [
       "<div>\n",
       "<style scoped>\n",
       "    .dataframe tbody tr th:only-of-type {\n",
       "        vertical-align: middle;\n",
       "    }\n",
       "\n",
       "    .dataframe tbody tr th {\n",
       "        vertical-align: top;\n",
       "    }\n",
       "\n",
       "    .dataframe thead th {\n",
       "        text-align: right;\n",
       "    }\n",
       "</style>\n",
       "<table border=\"1\" class=\"dataframe\">\n",
       "  <thead>\n",
       "    <tr style=\"text-align: right;\">\n",
       "      <th></th>\n",
       "      <th>00</th>\n",
       "      <th>01</th>\n",
       "      <th>10</th>\n",
       "      <th>11</th>\n",
       "    </tr>\n",
       "  </thead>\n",
       "  <tbody>\n",
       "    <tr>\n",
       "      <th>00</th>\n",
       "      <td>001</td>\n",
       "      <td></td>\n",
       "      <td></td>\n",
       "      <td>010</td>\n",
       "    </tr>\n",
       "    <tr>\n",
       "      <th>01</th>\n",
       "      <td>100</td>\n",
       "      <td>101</td>\n",
       "      <td></td>\n",
       "      <td></td>\n",
       "    </tr>\n",
       "    <tr>\n",
       "      <th>10</th>\n",
       "      <td>010</td>\n",
       "      <td>001</td>\n",
       "      <td></td>\n",
       "      <td>011</td>\n",
       "    </tr>\n",
       "  </tbody>\n",
       "</table>\n",
       "</div>"
      ],
      "text/plain": [
       "     00   01 10   11\n",
       "00  001          010\n",
       "01  100  101        \n",
       "10  010  001     011"
      ]
     },
     "execution_count": 44,
     "metadata": {},
     "output_type": "execute_result"
    }
   ],
   "source": [
    "lmbdaBinFullFr = makeVectorBinFrame(\n",
    "    functionWBinFull,\n",
    "    vectorAFull,\n",
    "    vectors['Z'])\n",
    "lmbdaBinFullFr"
   ]
  },
  {
   "cell_type": "markdown",
   "id": "083c90f6-20a3-473b-b9c1-790fe32d4ab6",
   "metadata": {},
   "source": [
    "#### Вычисление вектора значений\n",
    "\n",
    "--------------------------------------------------------------------------------\n",
    "Для использования функции `truthtable` нам необходимо передать строку\n",
    "истинности. Эта строка должна быть отображением ряда двоичных числел от $0_b$ до\n",
    "числа $n$, где $n$ максимальное значение заданной длины:\n",
    "\n",
    "$$\n",
    "n = 2^{N + R}\\ |\\ N=\\lceil log_2|Z|, R=\\rceil + \\lceil log_2|A| \\rceil\n",
    "$$\n",
    "\n",
    "Трёхмерный массив, который мы получили выше даёт срез, который может не равнятся\n",
    "$n$. Для этого, нам нужно дополнить его нулями."
   ]
  },
  {
   "cell_type": "code",
   "execution_count": 92,
   "id": "94457132-aa25-4dc2-8abb-cd7cad4d159e",
   "metadata": {},
   "outputs": [],
   "source": [
    "def makeTruethVector(fn):\n",
    "    truethTables = []\n",
    "    \n",
    "    x = fn.shape[0]\n",
    "    y = fn.shape[1]\n",
    "    z = fn.shape[2]\n",
    "\n",
    "    ttCols = vecLengths['Z'] + vecLengths['A']\n",
    "    currentLength = x * y\n",
    "    ttRows = int(math.pow(2, ttCols))\n",
    "    needAppend = ttRows - currentLength  \n",
    "    assert(needAppend > 0)\n",
    "    \n",
    "    for i in range(z):\n",
    "        arr = fn[:,:,i]\n",
    "        arr = arr.reshape((currentLength,))\n",
    "        ttStr = ''\n",
    "        for n in arr:\n",
    "            if n == 1:\n",
    "                ttStr = ttStr + '1'\n",
    "            else:\n",
    "                ttStr = ttStr + '0'\n",
    "        if needAppend:\n",
    "            for i in range(needAppend):\n",
    "                ttStr = ttStr + '0'\n",
    "        truethTables.append(ttStr)\n",
    "    return truethTables"
   ]
  },
  {
   "cell_type": "code",
   "execution_count": 93,
   "id": "9d1961e1-7850-41e2-9276-06b372cb50e0",
   "metadata": {},
   "outputs": [
    {
     "data": {
      "text/plain": [
       "['0000110000000000', '0001000010010000', '1000010001010000']"
      ]
     },
     "execution_count": 93,
     "metadata": {},
     "output_type": "execute_result"
    }
   ],
   "source": [
    "yTruethTables = makeTruethVector(functionWBinFull)\n",
    "yTruethTables"
   ]
  },
  {
   "cell_type": "markdown",
   "id": "aa9d39b2-5dc1-4e3f-acd7-90e890ae2a7b",
   "metadata": {},
   "source": [
    "### Строим ДНФ функции выходов КС\n",
    "\n",
    "--------------------------------------------------------------------------------\n",
    "\n",
    "Создадим выражение `pyeda` для аргументов функции:\n",
    "\n",
    "$$\n",
    "y_1y_2y_3 = \\lambda(Q_1,Q_2,x_1,x_2)\n",
    "$$\n",
    "\n",
    "Важно учитывать, что в труде автора индексация бинарных элементов идёт слева\n",
    "направо, тогда как в коде программы, индексация обычно идёт в обратном порядке.\n",
    "Для наглядности расчитаем таблицу истинности для $y_1$. Затем расчитаем таблицу\n",
    "истинности и вычислим *ДНФ* для остальных элементов картежа."
   ]
  },
  {
   "cell_type": "code",
   "execution_count": 116,
   "id": "cd416b3d-358d-41b2-a83c-2d14394bbaf8",
   "metadata": {},
   "outputs": [
    {
     "name": "stdout",
     "output_type": "stream",
     "text": [
      "2 2\n"
     ]
    }
   ],
   "source": [
    "varsALen = vecLengths['A']\n",
    "varsZLen = vecLengths['A']\n",
    "assert(varsALen > 1)\n",
    "assert(varsZLen > 1)\n",
    "print(varsALen, varsZLen)"
   ]
  },
  {
   "cell_type": "code",
   "execution_count": 117,
   "id": "51213507-2b13-44d0-b1e0-ecd543b1ea55",
   "metadata": {},
   "outputs": [
    {
     "data": {
      "text/plain": [
       "farray([Q[1], Q[2]])"
      ]
     },
     "execution_count": 117,
     "metadata": {},
     "output_type": "execute_result"
    }
   ],
   "source": [
    "Q1Q2 = exprvars('Q', (1, varsALen + 1))\n",
    "Q1Q2"
   ]
  },
  {
   "cell_type": "code",
   "execution_count": 118,
   "id": "e442149c-d22c-4458-a0f0-e54565c49ecd",
   "metadata": {},
   "outputs": [
    {
     "data": {
      "text/plain": [
       "farray([x[1], x[2]])"
      ]
     },
     "execution_count": 118,
     "metadata": {},
     "output_type": "execute_result"
    }
   ],
   "source": [
    "x1x2 = exprvars('x', (1, varsZLen + 1))\n",
    "x1x2"
   ]
  },
  {
   "cell_type": "code",
   "execution_count": 119,
   "id": "19274538-e754-4b8f-9d29-b43fe464b278",
   "metadata": {},
   "outputs": [
    {
     "data": {
      "text/plain": [
       "farray([Q[1], Q[2], x[1], x[2]])"
      ]
     },
     "execution_count": 119,
     "metadata": {},
     "output_type": "execute_result"
    }
   ],
   "source": [
    "Q1Q2 + x1x2"
   ]
  },
  {
   "cell_type": "code",
   "execution_count": 120,
   "id": "e970ae48-fa73-45f1-930d-a99abe34482d",
   "metadata": {},
   "outputs": [
    {
     "data": {
      "text/plain": [
       "x[2] x[1] Q[2] Q[1]\n",
       "   0    0    0    0 : 0\n",
       "   0    0    0    1 : 0\n",
       "   0    0    1    0 : 0\n",
       "   0    0    1    1 : 0\n",
       "   0    1    0    0 : 1\n",
       "   0    1    0    1 : 1\n",
       "   0    1    1    0 : 0\n",
       "   0    1    1    1 : 0\n",
       "   1    0    0    0 : 0\n",
       "   1    0    0    1 : 0\n",
       "   1    0    1    0 : 0\n",
       "   1    0    1    1 : 0\n",
       "   1    1    0    0 : 0\n",
       "   1    1    0    1 : 0\n",
       "   1    1    1    0 : 0\n",
       "   1    1    1    1 : 0"
      ]
     },
     "execution_count": 120,
     "metadata": {},
     "output_type": "execute_result"
    }
   ],
   "source": [
    "ttStry1 = yTruethTables[0]\n",
    "y1 = truthtable(Q1Q2 + x1x2, ttStry1)\n",
    "y1"
   ]
  },
  {
   "cell_type": "code",
   "execution_count": 121,
   "id": "e4ce62c9-9f14-4a9c-bd93-03c4aefe2940",
   "metadata": {},
   "outputs": [
    {
     "data": {
      "text/plain": [
       "Or(And(x[1], ~x[2], ~Q[1], ~Q[2]), And(x[1], ~x[2], Q[1], ~Q[2]))"
      ]
     },
     "execution_count": 121,
     "metadata": {},
     "output_type": "execute_result"
    }
   ],
   "source": [
    "y1Expr = truthtable2expr(y1)\n",
    "y1Expr"
   ]
  },
  {
   "cell_type": "code",
   "execution_count": 122,
   "id": "f25705bc-e65d-4f4b-bd74-e1d00a8c4417",
   "metadata": {},
   "outputs": [],
   "source": [
    "y1bdd = expr2bdd(y1Expr)"
   ]
  },
  {
   "cell_type": "code",
   "execution_count": 123,
   "id": "3d876d14-6f91-424b-8f19-299c486a33bc",
   "metadata": {},
   "outputs": [],
   "source": [
    "imgaesDir = 'img'\n",
    "imageName = 'graphviz_y1'\n",
    "imageFormat = 'svg'\n",
    "fileName = '{0}.{1}'.format(imageName, imageFormat)\n",
    "filePath = os.path.join(imgaesDir, fileName)\n",
    "# Удалите файл если необходимо его пересоздать\n",
    "if not os.path.isfile(filePath):\n",
    "    from graphviz import Source\n",
    "    gv = Source(y1bdd.to_dot())\n",
    "    gv.render(imageName, directory=imgaesDir, cleanup=True, format=imageFormat)"
   ]
  },
  {
   "cell_type": "markdown",
   "id": "97dd035d-8df0-4bac-8662-56c778ff5a21",
   "metadata": {},
   "source": [
    "![BDE](img/graphviz_y1.svg \"Диаграмма решений\")"
   ]
  },
  {
   "cell_type": "code",
   "execution_count": 125,
   "id": "c9fb3872-4728-449e-a7dc-95d42acf4559",
   "metadata": {},
   "outputs": [
    {
     "data": {
      "text/plain": [
       "farray([Or(And(x[1], ~x[2], ~Q[1], ~Q[2]), And(x[1], ~x[2], Q[1], ~Q[2])), Or(And(~x[1], ~x[2], Q[1], Q[2]), And(~x[1], x[2], ~Q[1], ~Q[2]), And(~x[1], x[2], Q[1], Q[2])), Or(And(~x[1], ~x[2], ~Q[1], ~Q[2]), And(x[1], ~x[2], Q[1], ~Q[2]), And(~x[1], x[2], Q[1], ~Q[2]), And(~x[1], x[2], Q[1], Q[2]))])"
      ]
     },
     "execution_count": 125,
     "metadata": {},
     "output_type": "execute_result"
    }
   ],
   "source": [
    "fArr = []\n",
    "for ttStr in yTruethTables:\n",
    "    tt = truthtable(Q1Q2 + x1x2, ttStr)\n",
    "    fy = truthtable2expr(tt)\n",
    "    fArr.append(fy)\n",
    "Y = farray(fArr)\n",
    "Y"
   ]
  },
  {
   "cell_type": "markdown",
   "id": "caca1a38-fbd4-4df4-8f66-ae9dd8213373",
   "metadata": {},
   "source": [
    "### Вычисление таблиц истинности функции входов памяти\n",
    "\n",
    "--------------------------------------------------------------------------------\n",
    "Вычисляем функцию $\\delta$:\n",
    "\n",
    "$$\n",
    "Q_1Q_2 = \\delta (Q_1, Q_2, x_1, x_2)\n",
    "$$\n",
    "\n",
    "В данной функции, целесообразно подменить переменные значения на $T_1T_2$, где\n",
    "$T_i$ это элементы нового состояния системы, а $Q_i$ - элементы предыдущего\n",
    "состояния. \n",
    "\n",
    "$$\n",
    "T_1T_2 = \\delta (Q_1, Q_2, x_1, x_2)\n",
    "$$\n",
    "\n",
    "Автор оригинального труда использовал *T* триггер, таблицу истинности которого\n",
    "преведена выше. Нам будет необходимо составить таблицу входных сигналов памяти\n",
    "$T_i$ в зависимости от предыдущего состояния памяти $Q_i$ и таблицы истинности\n",
    "*T* триггера. При этом на этом шаге мы не обращаем внимание на входные сигналы\n",
    "*КС* $X_i$. На интересуют лишь старое и новое состояния памяти. Далее, как это\n",
    "было проделано для функции выходов *КС* ($\\lambda$), расширить таблицу функции\n",
    "памяти ($\\delta$) для интеграции в интервал входных бинарных значений. На\n",
    "последнем этапе нам нужно будет составить *ДНФ* для $T_i$ и тут уже мы\n",
    "подключаем входные сигналы *КС* $X_i$. Итак, нам необходимо проделать следующие\n",
    "шаги:\n",
    "\n",
    "1. Составить соответствующую таблицу входных сигналов памяти\n",
    "2. Расширить таблицу функции памяти ($\\delta$)\n",
    "3. Составить *ДНФ* для $T_i$\n"
   ]
  },
  {
   "cell_type": "markdown",
   "id": "7eae97bf-90bf-4f5c-ad76-2404e1d1006c",
   "metadata": {},
   "source": [
    "#### Кодируем таблицу состояний памяти под входные сигналы\n",
    "--------------------------------------------------------------------------------\n",
    "К примеру, проверяем какой должен быть ввод, для того, чтобы перейти из\n",
    "состояния $1$ в состояни $0$"
   ]
  },
  {
   "cell_type": "code",
   "execution_count": 126,
   "id": "9d65d73e-1b19-4296-88d6-a0d1edf9ce83",
   "metadata": {},
   "outputs": [
    {
     "data": {
      "text/html": [
       "<div>\n",
       "<style scoped>\n",
       "    .dataframe tbody tr th:only-of-type {\n",
       "        vertical-align: middle;\n",
       "    }\n",
       "\n",
       "    .dataframe tbody tr th {\n",
       "        vertical-align: top;\n",
       "    }\n",
       "\n",
       "    .dataframe thead th {\n",
       "        text-align: right;\n",
       "    }\n",
       "</style>\n",
       "<table border=\"1\" class=\"dataframe\">\n",
       "  <thead>\n",
       "    <tr style=\"text-align: right;\">\n",
       "      <th></th>\n",
       "      <th>0</th>\n",
       "      <th>1</th>\n",
       "    </tr>\n",
       "  </thead>\n",
       "  <tbody>\n",
       "    <tr>\n",
       "      <th>0</th>\n",
       "      <td>0</td>\n",
       "      <td>1</td>\n",
       "    </tr>\n",
       "    <tr>\n",
       "      <th>1</th>\n",
       "      <td>1</td>\n",
       "      <td>0</td>\n",
       "    </tr>\n",
       "  </tbody>\n",
       "</table>\n",
       "</div>"
      ],
      "text/plain": [
       "   0  1\n",
       "0  0  1\n",
       "1  1  0"
      ]
     },
     "execution_count": 126,
     "metadata": {},
     "output_type": "execute_result"
    }
   ],
   "source": [
    "pd.DataFrame(\n",
    "    functionT,\n",
    "    columns=[0, 1],\n",
    "    index=[0, 1])"
   ]
  },
  {
   "cell_type": "code",
   "execution_count": 127,
   "id": "a9158c2c-7834-47e2-a5cd-b81c4747d657",
   "metadata": {},
   "outputs": [
    {
     "data": {
      "text/html": [
       "<div>\n",
       "<style scoped>\n",
       "    .dataframe tbody tr th:only-of-type {\n",
       "        vertical-align: middle;\n",
       "    }\n",
       "\n",
       "    .dataframe tbody tr th {\n",
       "        vertical-align: top;\n",
       "    }\n",
       "\n",
       "    .dataframe thead th {\n",
       "        text-align: right;\n",
       "    }\n",
       "</style>\n",
       "<table border=\"1\" class=\"dataframe\">\n",
       "  <thead>\n",
       "    <tr style=\"text-align: right;\">\n",
       "      <th></th>\n",
       "      <th>00</th>\n",
       "      <th>01</th>\n",
       "      <th>11</th>\n",
       "    </tr>\n",
       "  </thead>\n",
       "  <tbody>\n",
       "    <tr>\n",
       "      <th>00</th>\n",
       "      <td>01</td>\n",
       "      <td></td>\n",
       "      <td>00</td>\n",
       "    </tr>\n",
       "    <tr>\n",
       "      <th>01</th>\n",
       "      <td>11</td>\n",
       "      <td>00</td>\n",
       "      <td></td>\n",
       "    </tr>\n",
       "    <tr>\n",
       "      <th>10</th>\n",
       "      <td>01</td>\n",
       "      <td>11</td>\n",
       "      <td>11</td>\n",
       "    </tr>\n",
       "  </tbody>\n",
       "</table>\n",
       "</div>"
      ],
      "text/plain": [
       "    00  01  11\n",
       "00  01      00\n",
       "01  11  00    \n",
       "10  01  11  11"
      ]
     },
     "execution_count": 127,
     "metadata": {},
     "output_type": "execute_result"
    }
   ],
   "source": [
    "deltaBinFr"
   ]
  },
  {
   "cell_type": "code",
   "execution_count": 128,
   "id": "7f8a0771-ebce-43f9-b308-4f17534aa584",
   "metadata": {},
   "outputs": [
    {
     "data": {
      "text/plain": [
       "1"
      ]
     },
     "execution_count": 128,
     "metadata": {},
     "output_type": "execute_result"
    }
   ],
   "source": [
    "np.where(functionT[:,1] == 0)[0][0]"
   ]
  },
  {
   "cell_type": "code",
   "execution_count": 129,
   "id": "4a100dfd-13af-4542-979e-e4cab6c7d8d8",
   "metadata": {},
   "outputs": [],
   "source": [
    "functionsBin['T'] = np.zeros(functionsBin['A'].shape, dtype=int)\n",
    "functionTBin = functionsBin['T']\n",
    "functionABin = functionsBin['A']\n",
    "vectorA = vectors['A']\n",
    "vectorZ = vectors['Z']"
   ]
  },
  {
   "cell_type": "code",
   "execution_count": 130,
   "id": "d814caf3-67e8-4071-ad81-41f1872da059",
   "metadata": {},
   "outputs": [
    {
     "data": {
      "text/plain": [
       "True"
      ]
     },
     "execution_count": 130,
     "metadata": {},
     "output_type": "execute_result"
    }
   ],
   "source": [
    "vectorA[1,1]"
   ]
  },
  {
   "cell_type": "code",
   "execution_count": 131,
   "id": "e0e2d3a3-4944-417a-968c-285399272c8b",
   "metadata": {},
   "outputs": [],
   "source": [
    "x = vectorZ.shape[0]\n",
    "y = vectorA.shape[0]\n",
    "z = vectorA.shape[1]\n",
    "\n",
    "for i in range(x):\n",
    "    for j in range(y):\n",
    "        for k in range(z):\n",
    "            aNew = functionABin[i, j, k]\n",
    "            if aNew == -1:\n",
    "                aNew = 2\n",
    "                aOld = 2\n",
    "                t = 2\n",
    "            else:\n",
    "                aOld = int(vectorA[j, k])\n",
    "                t = np.where(functionT[:,aNew] == aOld)[0][0]\n",
    "            # Для отладки\n",
    "            #print(i, j, k, aOld, aNew, t)\n",
    "            t = -1 if t == 2 else t\n",
    "            functionTBin[i, j, k] = t"
   ]
  },
  {
   "cell_type": "code",
   "execution_count": 132,
   "id": "f9880e1f-dbb3-442c-9f16-077793db9cff",
   "metadata": {},
   "outputs": [
    {
     "data": {
      "text/html": [
       "<div>\n",
       "<style scoped>\n",
       "    .dataframe tbody tr th:only-of-type {\n",
       "        vertical-align: middle;\n",
       "    }\n",
       "\n",
       "    .dataframe tbody tr th {\n",
       "        vertical-align: top;\n",
       "    }\n",
       "\n",
       "    .dataframe thead th {\n",
       "        text-align: right;\n",
       "    }\n",
       "</style>\n",
       "<table border=\"1\" class=\"dataframe\">\n",
       "  <thead>\n",
       "    <tr style=\"text-align: right;\">\n",
       "      <th></th>\n",
       "      <th>00</th>\n",
       "      <th>01</th>\n",
       "      <th>11</th>\n",
       "    </tr>\n",
       "  </thead>\n",
       "  <tbody>\n",
       "    <tr>\n",
       "      <th>00</th>\n",
       "      <td>01</td>\n",
       "      <td></td>\n",
       "      <td>11</td>\n",
       "    </tr>\n",
       "    <tr>\n",
       "      <th>01</th>\n",
       "      <td>11</td>\n",
       "      <td>01</td>\n",
       "      <td></td>\n",
       "    </tr>\n",
       "    <tr>\n",
       "      <th>10</th>\n",
       "      <td>01</td>\n",
       "      <td>10</td>\n",
       "      <td>00</td>\n",
       "    </tr>\n",
       "  </tbody>\n",
       "</table>\n",
       "</div>"
      ],
      "text/plain": [
       "    00  01  11\n",
       "00  01      11\n",
       "01  11  01    \n",
       "10  01  10  00"
      ]
     },
     "execution_count": 132,
     "metadata": {},
     "output_type": "execute_result"
    }
   ],
   "source": [
    "deltaTBinFr = makeVectorBinFrame(\n",
    "    functionTBin,\n",
    "    vectorA,\n",
    "    vectors['Z'])\n",
    "deltaTBinFr"
   ]
  },
  {
   "cell_type": "code",
   "execution_count": 133,
   "id": "4ddd9dd0-4a95-4ca4-a149-f53f1d780ffd",
   "metadata": {},
   "outputs": [],
   "source": [
    "# Строки: количество входных сигналов\n",
    "x = vectors['Z'].shape[0]\n",
    "# Столбцы: интервал бинарных вариаций включающий в себя закодированные состояния\n",
    "y = vectorAFull.shape[0]\n",
    "# Слои: количество бит необходимое для отображения выходного сигнала\n",
    "z = vectors['A'].shape[1]\n",
    "functionTBinFull = np.zeros((x, y, z), dtype=int)"
   ]
  },
  {
   "cell_type": "code",
   "execution_count": 134,
   "id": "a860c7d6-b465-4d04-9355-5b9ca0d3c342",
   "metadata": {},
   "outputs": [],
   "source": [
    "expandFunctionTable(functionTBin, functionTBinFull)"
   ]
  },
  {
   "cell_type": "code",
   "execution_count": 135,
   "id": "ecce6cad-58cb-43e9-9f51-8f00109fa018",
   "metadata": {},
   "outputs": [
    {
     "data": {
      "text/html": [
       "<div>\n",
       "<style scoped>\n",
       "    .dataframe tbody tr th:only-of-type {\n",
       "        vertical-align: middle;\n",
       "    }\n",
       "\n",
       "    .dataframe tbody tr th {\n",
       "        vertical-align: top;\n",
       "    }\n",
       "\n",
       "    .dataframe thead th {\n",
       "        text-align: right;\n",
       "    }\n",
       "</style>\n",
       "<table border=\"1\" class=\"dataframe\">\n",
       "  <thead>\n",
       "    <tr style=\"text-align: right;\">\n",
       "      <th></th>\n",
       "      <th>00</th>\n",
       "      <th>01</th>\n",
       "      <th>10</th>\n",
       "      <th>11</th>\n",
       "    </tr>\n",
       "  </thead>\n",
       "  <tbody>\n",
       "    <tr>\n",
       "      <th>00</th>\n",
       "      <td>01</td>\n",
       "      <td></td>\n",
       "      <td></td>\n",
       "      <td>11</td>\n",
       "    </tr>\n",
       "    <tr>\n",
       "      <th>01</th>\n",
       "      <td>11</td>\n",
       "      <td>01</td>\n",
       "      <td></td>\n",
       "      <td></td>\n",
       "    </tr>\n",
       "    <tr>\n",
       "      <th>10</th>\n",
       "      <td>01</td>\n",
       "      <td>10</td>\n",
       "      <td></td>\n",
       "      <td>00</td>\n",
       "    </tr>\n",
       "  </tbody>\n",
       "</table>\n",
       "</div>"
      ],
      "text/plain": [
       "    00  01 10  11\n",
       "00  01         11\n",
       "01  11  01       \n",
       "10  01  10     00"
      ]
     },
     "execution_count": 135,
     "metadata": {},
     "output_type": "execute_result"
    }
   ],
   "source": [
    "deltaTBinFullFr = makeVectorBinFrame(\n",
    "    functionTBinFull,\n",
    "    vectorAFull,\n",
    "    vectors['Z'])\n",
    "deltaTBinFullFr"
   ]
  },
  {
   "cell_type": "markdown",
   "id": "4bf10c13-8caa-425c-a2f4-12f98bd52e59",
   "metadata": {},
   "source": [
    "#### Вычисление вектора значений\n",
    "\n",
    "--------------------------------------------------------------------------------"
   ]
  },
  {
   "cell_type": "code",
   "execution_count": 136,
   "id": "a3573359-ffb8-4179-990f-3fea3ca397a3",
   "metadata": {},
   "outputs": [
    {
     "data": {
      "text/plain": [
       "['0001100001000000', '1001110010000000']"
      ]
     },
     "execution_count": 136,
     "metadata": {},
     "output_type": "execute_result"
    }
   ],
   "source": [
    "TTruethTables = makeTruethVector(functionTBinFull)\n",
    "TTruethTables"
   ]
  },
  {
   "cell_type": "markdown",
   "id": "7367523d-75f3-4dba-9ef8-27bfb97b87a3",
   "metadata": {},
   "source": [
    "### Строим ДНФ функции ячеек памяти\n",
    "--------------------------------------------------------------------------------\n",
    "Создадим выражение `pyeda` для аргументов функции:\n",
    "\n",
    "$$\n",
    "T_1T_2 = \\delta (Q_1, Q_2, x_1, x_2)\n",
    "$$\n",
    "\n",
    "Далее для наглядности расчитаем таблицу истинности для $T_1$. Затем расчитаем\n",
    "таблицу истинности и вычислим *ДНФ* для остальных элементов картежа."
   ]
  },
  {
   "cell_type": "code",
   "execution_count": 137,
   "id": "58a396d3-7ed6-417d-a1c5-b7abcb20cff0",
   "metadata": {},
   "outputs": [
    {
     "data": {
      "text/plain": [
       "x[2] x[1] Q[2] Q[1]\n",
       "   0    0    0    0 : 0\n",
       "   0    0    0    1 : 0\n",
       "   0    0    1    0 : 0\n",
       "   0    0    1    1 : 1\n",
       "   0    1    0    0 : 1\n",
       "   0    1    0    1 : 0\n",
       "   0    1    1    0 : 0\n",
       "   0    1    1    1 : 0\n",
       "   1    0    0    0 : 0\n",
       "   1    0    0    1 : 1\n",
       "   1    0    1    0 : 0\n",
       "   1    0    1    1 : 0\n",
       "   1    1    0    0 : 0\n",
       "   1    1    0    1 : 0\n",
       "   1    1    1    0 : 0\n",
       "   1    1    1    1 : 0"
      ]
     },
     "execution_count": 137,
     "metadata": {},
     "output_type": "execute_result"
    }
   ],
   "source": [
    "ttStrT1 = TTruethTables[0]\n",
    "T1 = truthtable(Q1Q2 + x1x2, ttStrT1)\n",
    "T1"
   ]
  },
  {
   "cell_type": "code",
   "execution_count": 138,
   "id": "658b43ba-38bb-4fae-8bae-abed0118980b",
   "metadata": {},
   "outputs": [
    {
     "data": {
      "text/plain": [
       "Or(And(~x[1], ~x[2], Q[1], Q[2]), And(x[1], ~x[2], ~Q[1], ~Q[2]), And(~x[1], x[2], Q[1], ~Q[2]))"
      ]
     },
     "execution_count": 138,
     "metadata": {},
     "output_type": "execute_result"
    }
   ],
   "source": [
    "T1Expr = truthtable2expr(T1)\n",
    "T1Expr"
   ]
  },
  {
   "cell_type": "code",
   "execution_count": null,
   "id": "365caf3a-c5bf-4f86-aa78-a06433c344e7",
   "metadata": {},
   "outputs": [],
   "source": []
  }
 ],
 "metadata": {
  "kernelspec": {
   "display_name": "Python 3 (ipykernel)",
   "language": "python",
   "name": "python3"
  },
  "language_info": {
   "codemirror_mode": {
    "name": "ipython",
    "version": 3
   },
   "file_extension": ".py",
   "mimetype": "text/x-python",
   "name": "python",
   "nbconvert_exporter": "python",
   "pygments_lexer": "ipython3",
   "version": "3.11.8"
  }
 },
 "nbformat": 4,
 "nbformat_minor": 5
}
