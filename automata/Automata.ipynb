{
 "cells": [
  {
   "cell_type": "code",
   "execution_count": 1,
   "id": "b2d62fcf-1ad8-4cd5-8f8e-02860a15c815",
   "metadata": {},
   "outputs": [],
   "source": [
    "import io, math\n",
    "import pandas as pd\n",
    "import numpy as np\n",
    "from transitions.extensions import GraphMachine\n",
    "from IPython.display import Image, display"
   ]
  },
  {
   "cell_type": "markdown",
   "id": "01e5e022-1ba5-453f-b867-f3299f04f4d7",
   "metadata": {},
   "source": [
    "# Теория автоматов\n",
    "\n",
    "Исследование процесса перевода абстрактного (*АА*) автомата в автомат\n",
    "структурный (*СА*). Задача создания *СА* сводится к вычислению функций\n",
    "выходных сигналов $y_n$ и функций сигналов возбуждения элементов памяти $U_r$.\n",
    "Все сигналы исходят из комбинационной схемы *КС*. Сигналов возбуждения\n",
    "элементов памяти связывает *КС* и память *П*.\n",
    "Документ основан на [учебном пособии][1] Ожиганова А. А. \"Теория автоматов\".\n",
    "\n",
    "План документа:\n",
    "\n",
    "1. Общая теория\n",
    "2. Описание *АА* Мили с помощью таблиц переходов\n",
    "3. Реализация модели автомата с помощью библиотеки [transitions][2]\n",
    "4. Запуск *АА* на заданном входном слове\n",
    "6. Преобразование *АА* в *СА*  с помощью библиотеки [pyeda][3]\n",
    "    1. Кодирование входных и выходных сигналов *разрядным* двоичным кодом\n",
    "    2. Кодировка состояний [кодом Грея][4]\n",
    "    3. Нахождение функций выходных сигналов $y_n$ и $U_r$\n",
    "8. Запуск *СА* на входном слове заданном для *АА*\n",
    "9. Проверка равенства двух выходных слов\n",
    "\n",
    "Для удобства входной и выходной алфавиты обоих автоматов кодированы рядом\n",
    "натуральных чисел $\\mathbb{N}$. При этом при создании автоматов их алфавиты\n",
    "могут быть вполне разнообразными. При кодировке состояний используется код\n",
    "Грея для минимизации действий необходимых для смены состояния.\n",
    "\n",
    "\n",
    "[1]: https://books.ifmo.ru/book/826/teoriya_avtomatov._uchebnoe_posobie.htm\n",
    "[2]: https://github.com/pytransitions/transitions\n",
    "[3]: https://pyeda.readthedocs.io/en/latest/index.html\n",
    "[4]: https://ru.wikipedia.org/wiki/Код_Грея"
   ]
  },
  {
   "cell_type": "markdown",
   "id": "610235ab-c72e-4ef2-8ad7-1a849c7bc4c9",
   "metadata": {},
   "source": [
    "## Общая теория\n",
    "\n",
    "Напомним, что любой автомат описывается шестикомпонентным набором:\n",
    "\n",
    "$S = (A, Z, W, \\delta, \\lambda, a1)$, где\n",
    "\n",
    "1. $A = {a_1,...,a_m,...,a_M}$ - множество состояний или алфавит состояний *АА*\n",
    "2. $Z = {z_1,...,z_f,...,z_F}$ - множество входных сигналов или входной алфавит *АА*\n",
    "3. $W = {w_1,...,w_g,...,w_G}$ - множество выходных сигналов или выходной алфавит *АА*\n",
    "4. $\\delta$ - функция переходов *АА*: $\\delta(a_m, z_f) \\mapsto a_s\\ |\\ a_m, a_s \\in A$\n",
    "5. $\\lambda$ - функция выходов *АА*: $\\lambda(a_m, z_f) \\mapsto w_g\\ |\\ a_m \\in A, w_g \\in G$\n",
    "7. $а_1$ - начальное состояние *АА*"
   ]
  },
  {
   "cell_type": "markdown",
   "id": "2a06aca7-517e-4d0e-8916-cf9e949e94b3",
   "metadata": {},
   "source": [
    "## Описание АА\n",
    "\n",
    "Задаём алфавиты состояний, сигналов, функции $\\delta$ и $\\lambda$ и начальное состояние."
   ]
  },
  {
   "cell_type": "code",
   "execution_count": 2,
   "id": "41b41ae5-2e01-464b-9633-2a89f024201b",
   "metadata": {},
   "outputs": [],
   "source": [
    "states = ['a1', 'a2', 'a3'] # A\n",
    "events = ['z1', 'z2', 'z3'] # Z\n",
    "initial = 'a1'              # a1"
   ]
  },
  {
   "cell_type": "code",
   "execution_count": 3,
   "id": "1edc7fd3-1df3-43d7-b5ae-04ff010abfb9",
   "metadata": {},
   "outputs": [],
   "source": [
    "delta = np.array(           # delta\n",
    "    [['a2', '', 'a1'],\n",
    "     ['a3', 'a1', ''],\n",
    "     ['a2', 'a3', 'a3']])\n",
    "lmbda = np.array(           # lambda\n",
    "    [['w1', '', 'w2'],\n",
    "     ['w4', 'w5', ''],\n",
    "     ['w2', 'w1', 'w3']])"
   ]
  },
  {
   "cell_type": "code",
   "execution_count": 4,
   "id": "7cccd040-f7c9-41e3-bc1c-e7f3a233a12d",
   "metadata": {},
   "outputs": [
    {
     "data": {
      "text/html": [
       "<div>\n",
       "<style scoped>\n",
       "    .dataframe tbody tr th:only-of-type {\n",
       "        vertical-align: middle;\n",
       "    }\n",
       "\n",
       "    .dataframe tbody tr th {\n",
       "        vertical-align: top;\n",
       "    }\n",
       "\n",
       "    .dataframe thead th {\n",
       "        text-align: right;\n",
       "    }\n",
       "</style>\n",
       "<table border=\"1\" class=\"dataframe\">\n",
       "  <thead>\n",
       "    <tr style=\"text-align: right;\">\n",
       "      <th></th>\n",
       "      <th>a1</th>\n",
       "      <th>a2</th>\n",
       "      <th>a3</th>\n",
       "    </tr>\n",
       "  </thead>\n",
       "  <tbody>\n",
       "    <tr>\n",
       "      <th>z1</th>\n",
       "      <td>a2</td>\n",
       "      <td></td>\n",
       "      <td>a1</td>\n",
       "    </tr>\n",
       "    <tr>\n",
       "      <th>z2</th>\n",
       "      <td>a3</td>\n",
       "      <td>a1</td>\n",
       "      <td></td>\n",
       "    </tr>\n",
       "    <tr>\n",
       "      <th>z3</th>\n",
       "      <td>a2</td>\n",
       "      <td>a3</td>\n",
       "      <td>a3</td>\n",
       "    </tr>\n",
       "  </tbody>\n",
       "</table>\n",
       "</div>"
      ],
      "text/plain": [
       "    a1  a2  a3\n",
       "z1  a2      a1\n",
       "z2  a3  a1    \n",
       "z3  a2  a3  a3"
      ]
     },
     "execution_count": 4,
     "metadata": {},
     "output_type": "execute_result"
    }
   ],
   "source": [
    "deltaFr = pd.DataFrame(\n",
    "    delta,\n",
    "    columns=states,\n",
    "    index=events)\n",
    "deltaFr"
   ]
  },
  {
   "cell_type": "code",
   "execution_count": 5,
   "id": "c6732b08-2505-4938-ab09-3179d904c3f7",
   "metadata": {},
   "outputs": [
    {
     "data": {
      "text/html": [
       "<div>\n",
       "<style scoped>\n",
       "    .dataframe tbody tr th:only-of-type {\n",
       "        vertical-align: middle;\n",
       "    }\n",
       "\n",
       "    .dataframe tbody tr th {\n",
       "        vertical-align: top;\n",
       "    }\n",
       "\n",
       "    .dataframe thead th {\n",
       "        text-align: right;\n",
       "    }\n",
       "</style>\n",
       "<table border=\"1\" class=\"dataframe\">\n",
       "  <thead>\n",
       "    <tr style=\"text-align: right;\">\n",
       "      <th></th>\n",
       "      <th>a1</th>\n",
       "      <th>a2</th>\n",
       "      <th>a3</th>\n",
       "    </tr>\n",
       "  </thead>\n",
       "  <tbody>\n",
       "    <tr>\n",
       "      <th>z1</th>\n",
       "      <td>w1</td>\n",
       "      <td></td>\n",
       "      <td>w2</td>\n",
       "    </tr>\n",
       "    <tr>\n",
       "      <th>z2</th>\n",
       "      <td>w4</td>\n",
       "      <td>w5</td>\n",
       "      <td></td>\n",
       "    </tr>\n",
       "    <tr>\n",
       "      <th>z3</th>\n",
       "      <td>w2</td>\n",
       "      <td>w1</td>\n",
       "      <td>w3</td>\n",
       "    </tr>\n",
       "  </tbody>\n",
       "</table>\n",
       "</div>"
      ],
      "text/plain": [
       "    a1  a2  a3\n",
       "z1  w1      w2\n",
       "z2  w4  w5    \n",
       "z3  w2  w1  w3"
      ]
     },
     "execution_count": 5,
     "metadata": {},
     "output_type": "execute_result"
    }
   ],
   "source": [
    "lmbdaFr = pd.DataFrame(\n",
    "    lmbda,\n",
    "    columns=states,\n",
    "    index=events)\n",
    "lmbdaFr"
   ]
  },
  {
   "cell_type": "markdown",
   "id": "00e10e20-5e16-48d3-9085-a1810d33e727",
   "metadata": {},
   "source": [
    "## Реализация модели автомата"
   ]
  },
  {
   "cell_type": "code",
   "execution_count": 6,
   "id": "11ace839-843f-4340-a0f5-a87f260d2752",
   "metadata": {},
   "outputs": [],
   "source": [
    "class Automat():    \n",
    "    def __init__(self):\n",
    "        self.inputDict = {}  # Z\n",
    "        self.outputDict = {} # W\n",
    "        self.input = []\n",
    "        self.output = []\n",
    "        # Для удобства логика конструктора вынесена вовне\n",
    "\n",
    "    def process(self):\n",
    "        self.output = []\n",
    "        for inpSigNum in model.input:\n",
    "            inpSigStr = str(inpSigNum)\n",
    "            inpSig = self.inputDict[inpSigStr]\n",
    "            event = getattr(self, inpSig)\n",
    "            event()\n",
    "    \n",
    "    def show_graph(self, **kwargs):        \n",
    "        stream = io.BytesIO()\n",
    "        self.get_graph(**kwargs).draw(stream, prog='dot', format='png')\n",
    "        display(Image(stream.getvalue()))"
   ]
  },
  {
   "cell_type": "code",
   "execution_count": 7,
   "id": "54e372f3-2438-4b7e-852f-1f51876bde51",
   "metadata": {},
   "outputs": [
    {
     "data": {
      "text/plain": [
       "['a1', 'a2', 'a3']"
      ]
     },
     "execution_count": 7,
     "metadata": {},
     "output_type": "execute_result"
    }
   ],
   "source": [
    "model = Automat()\n",
    "model.states = states\n",
    "model.states"
   ]
  },
  {
   "cell_type": "code",
   "execution_count": 8,
   "id": "8e30458b-ada1-47e8-b30e-e57128b278ab",
   "metadata": {},
   "outputs": [],
   "source": [
    "machine = GraphMachine(\n",
    "    model=model,\n",
    "    states=model.states, \n",
    "    initial=initial)"
   ]
  },
  {
   "cell_type": "code",
   "execution_count": 9,
   "id": "2bedbbac-f237-45e4-a24d-a27da5b86743",
   "metadata": {},
   "outputs": [
    {
     "data": {
      "text/plain": [
       "(3, 3, 2)"
      ]
     },
     "execution_count": 9,
     "metadata": {},
     "output_type": "execute_result"
    }
   ],
   "source": [
    "desc = np.dstack((delta, lmbda))\n",
    "desc.shape"
   ]
  },
  {
   "cell_type": "code",
   "execution_count": 10,
   "id": "8060f57c-d0ba-44ab-a46a-979510131766",
   "metadata": {},
   "outputs": [],
   "source": [
    "def decode(model, outSig):\n",
    "    letter = model.outputDict[outSig]\n",
    "    model.output.append(letter)"
   ]
  },
  {
   "cell_type": "code",
   "execution_count": 11,
   "id": "3509bdc5-e597-4a8f-b795-b18ffc04d54a",
   "metadata": {},
   "outputs": [
    {
     "data": {
      "text/plain": [
       "{'w1': 1, 'w2': 2, 'w4': 3, 'w5': 4, 'w3': 5}"
      ]
     },
     "execution_count": 11,
     "metadata": {},
     "output_type": "execute_result"
    }
   ],
   "source": [
    "outputDict = {} # W\n",
    "mappings = []\n",
    "\n",
    "lastSig = 1\n",
    "for z in range(desc.shape[0]):\n",
    "    inpSig = events[z]\n",
    "    for a in range(desc.shape[1]):\n",
    "        fromState = states[a]\n",
    "        toState = desc[z, a, 0]\n",
    "        outSig = desc[z, a, 1]\n",
    "        if not toState: continue\n",
    "        if outSig not in outputDict:\n",
    "            outputDict[outSig] = lastSig\n",
    "            lastSig = lastSig + 1\n",
    "            #setattr(Automat, outSig, lambda self: self.decode(outSig))\n",
    "\n",
    "        mappings.append([inpSig, fromState, toState, outSig])\n",
    "        machine.add_transition(\n",
    "            inpSig,\n",
    "            fromState,\n",
    "            toState,\n",
    "            after = lambda outSig=outSig: decode(model, outSig))\n",
    "\n",
    "model.outputDict = outputDict\n",
    "outputDict"
   ]
  },
  {
   "cell_type": "code",
   "execution_count": 12,
   "id": "997c2384-3e26-4f65-b0d7-cb104efaafb5",
   "metadata": {},
   "outputs": [
    {
     "data": {
      "text/plain": [
       "[['z1', 'a1', 'a2', 'w1'],\n",
       " ['z1', 'a3', 'a1', 'w2'],\n",
       " ['z2', 'a1', 'a3', 'w4'],\n",
       " ['z2', 'a2', 'a1', 'w5'],\n",
       " ['z3', 'a1', 'a2', 'w2'],\n",
       " ['z3', 'a2', 'a3', 'w1'],\n",
       " ['z3', 'a3', 'a3', 'w3']]"
      ]
     },
     "execution_count": 12,
     "metadata": {},
     "output_type": "execute_result"
    }
   ],
   "source": [
    "mappings"
   ]
  },
  {
   "cell_type": "code",
   "execution_count": 13,
   "id": "54f0e76d-0036-4706-94e1-ab097f9b8c01",
   "metadata": {},
   "outputs": [
    {
     "data": {
      "text/plain": [
       "{'1': 'z1', '2': 'z2', '3': 'z3'}"
      ]
     },
     "execution_count": 13,
     "metadata": {},
     "output_type": "execute_result"
    }
   ],
   "source": [
    "inputDict = {}  # Z\n",
    "for z in range(desc.shape[0]):\n",
    "    num = str(z + 1)\n",
    "    sig = events[z]\n",
    "    inputDict[num] = sig\n",
    "\n",
    "model.inputDict = inputDict\n",
    "inputDict"
   ]
  },
  {
   "cell_type": "code",
   "execution_count": 14,
   "id": "207c38da-1507-42e1-b622-14b56d0b57cf",
   "metadata": {},
   "outputs": [
    {
     "data": {
      "image/png": "[encoded data removed]",
      "text/plain": [
       "<IPython.core.display.Image object>"
      ]
     },
     "metadata": {},
     "output_type": "display_data"
    }
   ],
   "source": [
    "model.show_graph()"
   ]
  },
  {
   "cell_type": "code",
   "execution_count": 15,
   "id": "d6ff028b-d582-4623-b18b-3bd4372c069c",
   "metadata": {},
   "outputs": [
    {
     "data": {
      "text/plain": [
       "'a3'"
      ]
     },
     "execution_count": 15,
     "metadata": {},
     "output_type": "execute_result"
    }
   ],
   "source": [
    "model.z2()\n",
    "model.state"
   ]
  },
  {
   "cell_type": "code",
   "execution_count": 16,
   "id": "2302d87a-1f83-4413-b0d2-37eeb584bf51",
   "metadata": {},
   "outputs": [
    {
     "data": {
      "text/plain": [
       "'a1'"
      ]
     },
     "execution_count": 16,
     "metadata": {},
     "output_type": "execute_result"
    }
   ],
   "source": [
    "model.z1()\n",
    "model.state"
   ]
  },
  {
   "cell_type": "markdown",
   "id": "5c478be8-4e38-4c11-bf3a-ffc4f34b77e5",
   "metadata": {},
   "source": [
    "## Запуск АА на заданном входном слове"
   ]
  },
  {
   "cell_type": "code",
   "execution_count": 17,
   "id": "979fac78-32eb-4264-b531-5f8e0215579b",
   "metadata": {},
   "outputs": [
    {
     "data": {
      "text/plain": [
       "'a1'"
      ]
     },
     "execution_count": 17,
     "metadata": {},
     "output_type": "execute_result"
    }
   ],
   "source": [
    "model.input = [2, 1, 3, 2, 1, 3, 3, 3, 1]\n",
    "model.process()\n",
    "model.state"
   ]
  },
  {
   "cell_type": "code",
   "execution_count": 18,
   "id": "3aa4d3d0-bb27-4364-bfae-c9caae0a004c",
   "metadata": {},
   "outputs": [
    {
     "data": {
      "text/plain": [
       "array([[2, 1, 3, 2, 1, 3, 3, 3, 1],\n",
       "       [3, 2, 2, 4, 1, 1, 5, 5, 2]])"
      ]
     },
     "execution_count": 18,
     "metadata": {},
     "output_type": "execute_result"
    }
   ],
   "source": [
    "AAIO = np.array([model.input, model.output])\n",
    "AAIO"
   ]
  },
  {
   "cell_type": "markdown",
   "id": "19f0f6f8-856d-4113-986a-483b1c0d2910",
   "metadata": {},
   "source": [
    "## Преобразование АА в СА"
   ]
  },
  {
   "cell_type": "markdown",
   "id": "21183992-0128-4e33-ae4d-38023ff7eec2",
   "metadata": {},
   "source": [
    "### Кодирование входных, выходных сигналов и состояний\n",
    "\n",
    "Каждому из следующих множеств (компонентов) нашего *АА* ставится в соответствие некий двоичный вектор.\n",
    "\n",
    "Входные сигналы $Z$:\n",
    "\n",
    "$$\n",
    "z_f \\mapsto (e_{f1},...,e_{fl},...,e_{fL})\\ | \\ e_{fl} \\in \\{0, 1\\}, L = \\lceil log_2F \\rceil\n",
    "$$\n",
    "\n",
    "Выходные сигналы $W$:\n",
    "\n",
    "$$\n",
    "w_g \\mapsto (e_{g1},...,e_{gn},...,e_{gN})\\ | \\ e_{gn} \\in \\{0, 1\\}, N = \\lceil log_2G \\rceil\n",
    "$$\n",
    "\n",
    "Состояния $A$:\n",
    "\n",
    "$$\n",
    "a_m \\mapsto (e_{m1},...,e_{mr},...,e_{mR})\\ | \\ e_{mr} \\in \\{0, 1\\}, R = \\lceil log_2M \\rceil\n",
    "$$\n",
    "\n",
    "Запись $\\lceil x \\rceil$ означает *потолок* (`ceil`) - ближайшее целое число большее или равно $x$.\n",
    "\n",
    "Для кодирования входных и выходных сигналов можно использовать обычный *разрядовый* двоичный код:\n",
    "\n",
    "$$\n",
    "\\begin{array}{c}\n",
    "    0000\\\\\n",
    "    0001\\\\\n",
    "    0010\\\\\n",
    "    0011\\\\\n",
    "    0100\\\\\n",
    "    ...\n",
    "\\end{array} \n",
    "$$\n",
    "\n",
    "При *разрядовом* двоичном кодировании соседние значения могут отличаться более чем на бит. К примеру\n",
    "разница между числом $01_{b}$ и $10_{b}$ два бита - младший и старший. Данная разница описывается термином:\n",
    "[*расстояние Хэмминга*][1]:\n",
    "\n",
    "$$\n",
    "d_{ij} = \\sum_{k=1}^{p} |x_{ik}-x_{jk}|\n",
    "$$\n",
    "\n",
    "Соответственно при использовании *разрядового* кодирования в физической среде электрических сигналов\n",
    "растёт риск помех. Так же растёт сложность механизмов участвующих в кодировке и раскодировке этих\n",
    "сигналов. Несмотря на это предполагается, что *внешняя среда* относительно нашего *СА* достаточно развитая\n",
    "для такого взаимодействия. Так же возникает необходимость следовать стандартным интерфейсам.\n",
    "Следовательно входной и выходной алфавиты кодируются именно *разрядным* образом.\n",
    "\n",
    "Но переход между состояниями во *внутренней среде* нашего автомата лучше всего совершать с помощью\n",
    "[*кода Грея*][2]. В этом случае соседствующие значения всегда отличаются на один бит:\n",
    "\n",
    "$$\n",
    "\\begin{array}{c}\n",
    "    0000\\\\\n",
    "    0001\\\\\n",
    "    0011\\\\\n",
    "    0010\\\\\n",
    "    0110\\\\\n",
    "    ...\n",
    "\\end{array} \n",
    "$$\n",
    "\n",
    "Для перехода из *разрядного* в *код Грея* используется следующая формула, где $i$ это позиция бита:\n",
    "\n",
    "$$\n",
    "G_{i} = B_{i} \\oplus B_{i+1}\n",
    "$$\n",
    "\n",
    "При каноническом (стандартном) методе структурного синтеза автомат представляют\n",
    "в виде двух частей: памяти (П) и комбинационной схемы (КС). КС состоит из\n",
    "логических элементов, а память из автоматов памяти. Элементарными автоматами\n",
    "памяти являются триггерные схемы.\n",
    "\n",
    "![ConceptualScheme](img/CS.png \"Концептуальная схема\")\n",
    "\n",
    "Задача синтеза автомата сводится к нахождению функций:\n",
    "\n",
    "$$\n",
    "U_r = U_r(Q_1,..., Q_R, x_1,..., x_L), r = 1,..., R\n",
    "$$\n",
    "\n",
    "$$\n",
    "y_n = y_n(Q_1,..., Q_R, x_1,..., x_L), n = 1,..., N\n",
    "$$\n",
    "\n",
    "[1]: https://ru.wikipedia.org/wiki/Расстояние_Хэмминга\n",
    "[2]: https://ru.wikipedia.org/wiki/Код_Грея"
   ]
  },
  {
   "cell_type": "code",
   "execution_count": 122,
   "id": "e124ec6c-d39d-4ad6-aba4-8504c2393d9d",
   "metadata": {},
   "outputs": [],
   "source": [
    "def calcBinArrLen(x):\n",
    "    return math.ceil(math.log2(x))"
   ]
  },
  {
   "cell_type": "code",
   "execution_count": 123,
   "id": "5d89b636-6bf3-4937-bf04-9be868ee11d2",
   "metadata": {},
   "outputs": [],
   "source": [
    "def buildColumns(vectorLen, prefix):\n",
    "    return [prefix + str(x + 1) for x in range(vectorLen)]"
   ]
  },
  {
   "cell_type": "code",
   "execution_count": 124,
   "id": "48fe8061-2045-48a1-87fa-5f2c2498f524",
   "metadata": {},
   "outputs": [],
   "source": [
    "def encodeSignals(abcLength, gray=False):\n",
    "    vectorLength = calcBinArrLen(abcLength)\n",
    "    signalsBin = np.zeros(\n",
    "        [abcLength, vectorLength],\n",
    "        dtype = np.dtype(bool))\n",
    "    for i in range(abcLength):\n",
    "        for n in range(vectorLength):\n",
    "            inputSignal = i\n",
    "            if gray:\n",
    "                inputSignal = inputSignal ^ (inputSignal >> 1)\n",
    "            bit = inputSignal & (0x1 << (vectorLength - 1 - n))\n",
    "            bit = True if bit else False\n",
    "            signalsBin[i][n] = bit\n",
    "    return signalsBin"
   ]
  },
  {
   "cell_type": "code",
   "execution_count": 134,
   "id": "a3ecff73-4810-4924-84a9-1fb01807a0a0",
   "metadata": {},
   "outputs": [],
   "source": [
    "alphabets = {\n",
    "    'Z': list(model.inputDict.values()),\n",
    "    'W': list(model.outputDict.keys()),\n",
    "    'A': model.states\n",
    "}\n",
    "\n",
    "abcLengths = {\n",
    "    'Z': len(alphabets['Z']),\n",
    "    'W': len(alphabets['W']),\n",
    "    'A': len(alphabets['A'])\n",
    "}\n",
    "\n",
    "# Создаём массив закодированных векторов входного и выходного алфавитов, а так же алфавита состояний\n",
    "vectors = {\n",
    "    'Z': encodeSignals(abcLengths['Z']),\n",
    "    'W': encodeSignals(abcLengths['W']),\n",
    "    'A': encodeSignals(abcLengths['A'], True)\n",
    "}\n",
    "\n",
    "vectorLengths = {\n",
    "    'Z': vectors['Z'].shape[1],\n",
    "    'W': vectors['W'].shape[1],\n",
    "    'A': vectors['A'].shape[1]\n",
    "}\n",
    "\n",
    "contactNames = {\n",
    "    'Z': buildColumns(vectorLengths['Z'], 'x'),\n",
    "    'W': buildColumns(vectorLengths['W'], 'y'),\n",
    "    'A': buildColumns(vectorLengths['A'], 'Q')\n",
    "}"
   ]
  },
  {
   "cell_type": "code",
   "execution_count": 135,
   "id": "73411ca1-8fe6-42c9-b758-3b32a1bf4b88",
   "metadata": {},
   "outputs": [
    {
     "data": {
      "text/html": [
       "<div>\n",
       "<style scoped>\n",
       "    .dataframe tbody tr th:only-of-type {\n",
       "        vertical-align: middle;\n",
       "    }\n",
       "\n",
       "    .dataframe tbody tr th {\n",
       "        vertical-align: top;\n",
       "    }\n",
       "\n",
       "    .dataframe thead th {\n",
       "        text-align: right;\n",
       "    }\n",
       "</style>\n",
       "<table border=\"1\" class=\"dataframe\">\n",
       "  <thead>\n",
       "    <tr style=\"text-align: right;\">\n",
       "      <th></th>\n",
       "      <th>x1</th>\n",
       "      <th>x2</th>\n",
       "    </tr>\n",
       "  </thead>\n",
       "  <tbody>\n",
       "    <tr>\n",
       "      <th>z1</th>\n",
       "      <td>False</td>\n",
       "      <td>False</td>\n",
       "    </tr>\n",
       "    <tr>\n",
       "      <th>z2</th>\n",
       "      <td>False</td>\n",
       "      <td>True</td>\n",
       "    </tr>\n",
       "    <tr>\n",
       "      <th>z3</th>\n",
       "      <td>True</td>\n",
       "      <td>False</td>\n",
       "    </tr>\n",
       "  </tbody>\n",
       "</table>\n",
       "</div>"
      ],
      "text/plain": [
       "       x1     x2\n",
       "z1  False  False\n",
       "z2  False   True\n",
       "z3   True  False"
      ]
     },
     "execution_count": 135,
     "metadata": {},
     "output_type": "execute_result"
    }
   ],
   "source": [
    "pd.DataFrame(\n",
    "    vectors['Z'],\n",
    "    columns=contactNames['Z'],\n",
    "    index=alphabets['Z'])"
   ]
  },
  {
   "cell_type": "code",
   "execution_count": 136,
   "id": "069c3957-f202-43c1-84b5-3f4e5e3b0152",
   "metadata": {},
   "outputs": [
    {
     "data": {
      "text/html": [
       "<div>\n",
       "<style scoped>\n",
       "    .dataframe tbody tr th:only-of-type {\n",
       "        vertical-align: middle;\n",
       "    }\n",
       "\n",
       "    .dataframe tbody tr th {\n",
       "        vertical-align: top;\n",
       "    }\n",
       "\n",
       "    .dataframe thead th {\n",
       "        text-align: right;\n",
       "    }\n",
       "</style>\n",
       "<table border=\"1\" class=\"dataframe\">\n",
       "  <thead>\n",
       "    <tr style=\"text-align: right;\">\n",
       "      <th></th>\n",
       "      <th>y1</th>\n",
       "      <th>y2</th>\n",
       "      <th>y3</th>\n",
       "    </tr>\n",
       "  </thead>\n",
       "  <tbody>\n",
       "    <tr>\n",
       "      <th>w1</th>\n",
       "      <td>False</td>\n",
       "      <td>False</td>\n",
       "      <td>False</td>\n",
       "    </tr>\n",
       "    <tr>\n",
       "      <th>w2</th>\n",
       "      <td>False</td>\n",
       "      <td>False</td>\n",
       "      <td>True</td>\n",
       "    </tr>\n",
       "    <tr>\n",
       "      <th>w4</th>\n",
       "      <td>False</td>\n",
       "      <td>True</td>\n",
       "      <td>False</td>\n",
       "    </tr>\n",
       "    <tr>\n",
       "      <th>w5</th>\n",
       "      <td>False</td>\n",
       "      <td>True</td>\n",
       "      <td>True</td>\n",
       "    </tr>\n",
       "    <tr>\n",
       "      <th>w3</th>\n",
       "      <td>True</td>\n",
       "      <td>False</td>\n",
       "      <td>False</td>\n",
       "    </tr>\n",
       "  </tbody>\n",
       "</table>\n",
       "</div>"
      ],
      "text/plain": [
       "       y1     y2     y3\n",
       "w1  False  False  False\n",
       "w2  False  False   True\n",
       "w4  False   True  False\n",
       "w5  False   True   True\n",
       "w3   True  False  False"
      ]
     },
     "execution_count": 136,
     "metadata": {},
     "output_type": "execute_result"
    }
   ],
   "source": [
    "pd.DataFrame(\n",
    "    vectors['W'],\n",
    "    columns=contactNames['W'],\n",
    "    index=alphabets['W'])"
   ]
  },
  {
   "cell_type": "code",
   "execution_count": 137,
   "id": "4834224f-283a-4994-9ec7-ae004d1f3144",
   "metadata": {},
   "outputs": [
    {
     "data": {
      "text/html": [
       "<div>\n",
       "<style scoped>\n",
       "    .dataframe tbody tr th:only-of-type {\n",
       "        vertical-align: middle;\n",
       "    }\n",
       "\n",
       "    .dataframe tbody tr th {\n",
       "        vertical-align: top;\n",
       "    }\n",
       "\n",
       "    .dataframe thead th {\n",
       "        text-align: right;\n",
       "    }\n",
       "</style>\n",
       "<table border=\"1\" class=\"dataframe\">\n",
       "  <thead>\n",
       "    <tr style=\"text-align: right;\">\n",
       "      <th></th>\n",
       "      <th>Q1</th>\n",
       "      <th>Q2</th>\n",
       "    </tr>\n",
       "  </thead>\n",
       "  <tbody>\n",
       "    <tr>\n",
       "      <th>a1</th>\n",
       "      <td>False</td>\n",
       "      <td>False</td>\n",
       "    </tr>\n",
       "    <tr>\n",
       "      <th>a2</th>\n",
       "      <td>False</td>\n",
       "      <td>True</td>\n",
       "    </tr>\n",
       "    <tr>\n",
       "      <th>a3</th>\n",
       "      <td>True</td>\n",
       "      <td>True</td>\n",
       "    </tr>\n",
       "  </tbody>\n",
       "</table>\n",
       "</div>"
      ],
      "text/plain": [
       "       Q1     Q2\n",
       "a1  False  False\n",
       "a2  False   True\n",
       "a3   True   True"
      ]
     },
     "execution_count": 137,
     "metadata": {},
     "output_type": "execute_result"
    }
   ],
   "source": [
    "pd.DataFrame(\n",
    "    vectors['A'],\n",
    "    columns=contactNames['A'],\n",
    "    index=alphabets['A'])"
   ]
  },
  {
   "cell_type": "code",
   "execution_count": null,
   "id": "27537061-b1a1-4e24-8c49-59f74ff0f4ef",
   "metadata": {},
   "outputs": [],
   "source": []
  }
 ],
 "metadata": {
  "kernelspec": {
   "display_name": "Python 3 (ipykernel)",
   "language": "python",
   "name": "python3"
  },
  "language_info": {
   "codemirror_mode": {
    "name": "ipython",
    "version": 3
   },
   "file_extension": ".py",
   "mimetype": "text/x-python",
   "name": "python",
   "nbconvert_exporter": "python",
   "pygments_lexer": "ipython3",
   "version": "3.11.8"
  }
 },
 "nbformat": 4,
 "nbformat_minor": 5
}
