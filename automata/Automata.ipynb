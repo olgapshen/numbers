{
 "cells": [
  {
   "cell_type": "code",
   "execution_count": null,
   "id": "b2d62fcf-1ad8-4cd5-8f8e-02860a15c815",
   "metadata": {},
   "outputs": [],
   "source": [
    "import io\n",
    "import pandas as pd\n",
    "import numpy as np\n",
    "from transitions.extensions import GraphMachine\n",
    "from IPython.display import Image, display"
   ]
  },
  {
   "cell_type": "markdown",
   "id": "01e5e022-1ba5-453f-b867-f3299f04f4d7",
   "metadata": {},
   "source": [
    "# Теория автоматов\n",
    "\n",
    "Исследование процесса перевода абстрактного (*АА*) автомата в автомат структурный (*СА*).\\\n",
    "Документ основан на [учебном пособии][1] Ожиганова А. А. \"Теория автоматов\".\n",
    "\n",
    "План документа:\n",
    "\n",
    "1. Общая теория\n",
    "2. Описание *АА* Мили с помощью таблиц переходов\n",
    "3. Реализация модели автомата с помощью библиотеки [transitions][2]\n",
    "4. Запуск *АА* на заданном входном слове\n",
    "6. Преобразование *АА* в *СА*  с помощью библиотеки [pyeda][3]\n",
    "    1. Кодирование входных и выходных сигналов *разрядным* двоичным кодом\n",
    "    2. Кодировка состояний [кодом Грея][4]\n",
    "8. Запуск *СА* на входном слове заданном для *АА*\n",
    "9. Проверка равенства двух выходных слов\n",
    "\n",
    "Для удобства входной и выходной алфавиты обоих автоматов кодированы рядом\n",
    "натуральных чисел $\\mathbb{N}$. При этом при создании автоматов их алфавиты\n",
    "могут быть вполне разнообразными. При кодировке состояний используется код\n",
    "Грея для минимизации действий необходимых для смены состояния.\n",
    "\n",
    "\n",
    "[1]: https://books.ifmo.ru/book/826/teoriya_avtomatov._uchebnoe_posobie.htm\n",
    "[2]: https://github.com/pytransitions/transitions\n",
    "[3]: https://pyeda.readthedocs.io/en/latest/index.html\n",
    "[4]: https://ru.wikipedia.org/wiki/Код_Грея"
   ]
  },
  {
   "cell_type": "markdown",
   "id": "610235ab-c72e-4ef2-8ad7-1a849c7bc4c9",
   "metadata": {},
   "source": [
    "## Общая теория\n",
    "\n",
    "Напомним, что любой автомат описывается шестикомпонентным набором:\n",
    "\n",
    "$S = (A, Z, W, \\delta, \\lambda, a1)$, где\n",
    "\n",
    "1. $A = {a_1,...,a_m,...,a_M}$ - множество состояний или алфавит состояний *АА*\n",
    "2. $Z = {z_1,...,z_f,...,z_F}$ - множество входных сигналов или входной алфавит *АА*\n",
    "3. $W = {w_1,...,w_g,...,w_G}$ - множество выходных сигналов или выходной алфавит *АА*\n",
    "4. $\\delta$ - функция переходов *АА*: $\\delta(a_m, z_f) \\mapsto a_s\\ |\\ a_m, a_s \\in A$\n",
    "5. $\\lambda$ - функция выходов *АА*: $\\lambda(a_m, z_f) \\mapsto w_g\\ |\\ a_m \\in A, w_g \\in G$\n",
    "7. $а_1$ - начальное состояние *АА*"
   ]
  },
  {
   "cell_type": "markdown",
   "id": "2a06aca7-517e-4d0e-8916-cf9e949e94b3",
   "metadata": {},
   "source": [
    "## Описание АА\n",
    "\n",
    "Задаём алфавиты состояний, сигналов, функции $\\delta$ и $\\lambda$ и начальное состояние."
   ]
  },
  {
   "cell_type": "code",
   "execution_count": null,
   "id": "41b41ae5-2e01-464b-9633-2a89f024201b",
   "metadata": {},
   "outputs": [],
   "source": [
    "states = ['a1', 'a2', 'a3'] # A\n",
    "events = ['z1', 'z2', 'z3'] # Z\n",
    "initial = 'a1'              # a1"
   ]
  },
  {
   "cell_type": "code",
   "execution_count": null,
   "id": "1edc7fd3-1df3-43d7-b5ae-04ff010abfb9",
   "metadata": {},
   "outputs": [],
   "source": [
    "delta = np.array(           # delta\n",
    "    [['a2', '', 'a1'],\n",
    "     ['a3', 'a1', ''],\n",
    "     ['a2', 'a3', 'a3']])\n",
    "lmbda = np.array(           # lambda\n",
    "    [['w1', '', 'w2'],\n",
    "     ['w4', 'w5', ''],\n",
    "     ['w2', 'w1', 'w3']])"
   ]
  },
  {
   "cell_type": "code",
   "execution_count": null,
   "id": "7cccd040-f7c9-41e3-bc1c-e7f3a233a12d",
   "metadata": {},
   "outputs": [],
   "source": [
    "deltaFr = pd.DataFrame(\n",
    "    delta,\n",
    "    columns=states,\n",
    "    index=events)\n",
    "deltaFr"
   ]
  },
  {
   "cell_type": "code",
   "execution_count": null,
   "id": "c6732b08-2505-4938-ab09-3179d904c3f7",
   "metadata": {},
   "outputs": [],
   "source": [
    "lmbdaFr = pd.DataFrame(\n",
    "    lmbda,\n",
    "    columns=states,\n",
    "    index=events)\n",
    "lmbdaFr"
   ]
  },
  {
   "cell_type": "markdown",
   "id": "00e10e20-5e16-48d3-9085-a1810d33e727",
   "metadata": {},
   "source": [
    "## Реализация модели автомата"
   ]
  },
  {
   "cell_type": "code",
   "execution_count": null,
   "id": "11ace839-843f-4340-a0f5-a87f260d2752",
   "metadata": {},
   "outputs": [],
   "source": [
    "class Automat():    \n",
    "    def __init__(self):\n",
    "        self.inputDict = {}  # Z\n",
    "        self.outputDict = {} # W\n",
    "        self.input = []\n",
    "        self.output = []\n",
    "        # Для удобства логика конструктора вынесена вовне\n",
    "\n",
    "    def process(self):\n",
    "        self.output = []\n",
    "        for inpSigNum in model.input:\n",
    "            inpSigStr = str(inpSigNum)\n",
    "            inpSig = self.inputDict[inpSigStr]\n",
    "            event = getattr(self, inpSig)\n",
    "            event()\n",
    "    \n",
    "    def show_graph(self, **kwargs):        \n",
    "        stream = io.BytesIO()\n",
    "        self.get_graph(**kwargs).draw(stream, prog='dot', format='png')\n",
    "        display(Image(stream.getvalue()))"
   ]
  },
  {
   "cell_type": "code",
   "execution_count": null,
   "id": "2bedbbac-f237-45e4-a24d-a27da5b86743",
   "metadata": {},
   "outputs": [],
   "source": [
    "desc = np.dstack((delta, lmbda))\n",
    "desc.shape"
   ]
  },
  {
   "cell_type": "code",
   "execution_count": null,
   "id": "8e30458b-ada1-47e8-b30e-e57128b278ab",
   "metadata": {},
   "outputs": [],
   "source": [
    "model = Automat()\n",
    "machine = GraphMachine(\n",
    "    model=model,\n",
    "    states=states, \n",
    "    initial=initial)"
   ]
  },
  {
   "cell_type": "code",
   "execution_count": null,
   "id": "8060f57c-d0ba-44ab-a46a-979510131766",
   "metadata": {},
   "outputs": [],
   "source": [
    "def decode(model, outSig):\n",
    "    letter = model.outputDict[outSig]\n",
    "    model.output.append(letter)"
   ]
  },
  {
   "cell_type": "code",
   "execution_count": null,
   "id": "3509bdc5-e597-4a8f-b795-b18ffc04d54a",
   "metadata": {},
   "outputs": [],
   "source": [
    "outputDict = {} # W\n",
    "mappings = []\n",
    "\n",
    "lastSig = 1\n",
    "for z in range(desc.shape[0]):\n",
    "    inpSig = events[z]\n",
    "    for a in range(desc.shape[1]):\n",
    "        fromState = states[a]\n",
    "        toState = desc[z, a, 0]\n",
    "        outSig = desc[z, a, 1]\n",
    "        if not toState: continue\n",
    "        if outSig not in outputDict:\n",
    "            outputDict[outSig] = lastSig\n",
    "            lastSig = lastSig + 1\n",
    "            #setattr(Automat, outSig, lambda self: self.decode(outSig))\n",
    "\n",
    "        mappings.append([inpSig, fromState, toState, outSig])\n",
    "        machine.add_transition(\n",
    "            inpSig,\n",
    "            fromState,\n",
    "            toState,\n",
    "            after = lambda outSig=outSig: decode(model, outSig))\n",
    "\n",
    "model.outputDict = outputDict\n",
    "outputDict"
   ]
  },
  {
   "cell_type": "code",
   "execution_count": null,
   "id": "997c2384-3e26-4f65-b0d7-cb104efaafb5",
   "metadata": {},
   "outputs": [],
   "source": [
    "mappings"
   ]
  },
  {
   "cell_type": "code",
   "execution_count": null,
   "id": "54f0e76d-0036-4706-94e1-ab097f9b8c01",
   "metadata": {},
   "outputs": [],
   "source": [
    "inputDict = {}  # Z\n",
    "for z in range(desc.shape[0]):\n",
    "    num = str(z + 1)\n",
    "    sig = events[z]\n",
    "    inputDict[num] = sig\n",
    "\n",
    "model.inputDict = inputDict\n",
    "inputDict"
   ]
  },
  {
   "cell_type": "code",
   "execution_count": null,
   "id": "207c38da-1507-42e1-b622-14b56d0b57cf",
   "metadata": {},
   "outputs": [],
   "source": [
    "model.show_graph()"
   ]
  },
  {
   "cell_type": "code",
   "execution_count": null,
   "id": "d6ff028b-d582-4623-b18b-3bd4372c069c",
   "metadata": {},
   "outputs": [],
   "source": [
    "model.z2()\n",
    "model.state"
   ]
  },
  {
   "cell_type": "code",
   "execution_count": null,
   "id": "2302d87a-1f83-4413-b0d2-37eeb584bf51",
   "metadata": {},
   "outputs": [],
   "source": [
    "model.z1()\n",
    "model.state"
   ]
  },
  {
   "cell_type": "markdown",
   "id": "5c478be8-4e38-4c11-bf3a-ffc4f34b77e5",
   "metadata": {},
   "source": [
    "## Запуск АА на заданном входном слове"
   ]
  },
  {
   "cell_type": "code",
   "execution_count": null,
   "id": "979fac78-32eb-4264-b531-5f8e0215579b",
   "metadata": {},
   "outputs": [],
   "source": [
    "model.input = [2, 1, 3, 2, 1, 3, 3, 3, 1]\n",
    "model.process()\n",
    "model.state"
   ]
  },
  {
   "cell_type": "code",
   "execution_count": null,
   "id": "3aa4d3d0-bb27-4364-bfae-c9caae0a004c",
   "metadata": {},
   "outputs": [],
   "source": [
    "AAIO = np.array([model.input, model.output])\n",
    "AAIO"
   ]
  },
  {
   "cell_type": "markdown",
   "id": "19f0f6f8-856d-4113-986a-483b1c0d2910",
   "metadata": {},
   "source": [
    "## Преобразование АА в СА"
   ]
  },
  {
   "cell_type": "markdown",
   "id": "21183992-0128-4e33-ae4d-38023ff7eec2",
   "metadata": {},
   "source": [
    "### Кодирование входных, выходных сигналов и состояний\n",
    "\n",
    "Каждому из следующих множеств нашего *АА* ставится в соответствие некий двоичный вектор.\n",
    "\n",
    "Входные сигналы $Z$:\n",
    "\n",
    "$$\n",
    "z_f \\mapsto (e_{f1},...,e_{fl},...,e_{fL})\\ | \\ e_{fl} \\in \\{0, 1\\}, L = \\lceil log_2F \\rceil\n",
    "$$\n",
    "\n",
    "Выходные сигналы $W$:\n",
    "\n",
    "$$\n",
    "w_g \\mapsto (e_{g1},...,e_{gn},...,e_{gN})\\ | \\ e_{gn} \\in \\{0, 1\\}, N = \\lceil log_2G \\rceil\n",
    "$$\n",
    "\n",
    "Состояния $A$:\n",
    "\n",
    "$$\n",
    "a_m \\mapsto (e_{m1},...,e_{mr},...,e_{mR})\\ | \\ e_{mr} \\in \\{0, 1\\}, R = \\lceil log_2M \\rceil\n",
    "$$\n",
    "\n",
    "Запись $\\lceil x \\rceil$ означает *потолок* (`ceil`) - ближайшее целое число большее или равно $x$.\n",
    "\n",
    "Для кодирования входных и выходных сигналов можно использовать обычный *разрядовый* двоичный код:\n",
    "\n",
    "$$\n",
    "\\begin{array}{c}\n",
    "    0000\\\\\n",
    "    0001\\\\\n",
    "    0010\\\\\n",
    "    0011\\\\\n",
    "    0100\\\\\n",
    "    ...\n",
    "\\end{array} \n",
    "$$\n",
    "\n",
    "При *разрядовом* двоичном кодировании соседние значения могут отличаться более чем на бит. К примеру\n",
    "разница между числом $01_{b}$ и $10_{b}$ два бита - младший и старший. Данная разница описывается термином:\n",
    "[*расстояние Хэмминга*][1]:\n",
    "\n",
    "$$\n",
    "d_{ij} = \\sum_{k=1}^{p} |x_{ik}-x_{jk}|\n",
    "$$\n",
    "\n",
    "Соответственно при использовании *разрядового* кодирования в физической среде электрических сигналов\n",
    "растёт риск помех. Так же растёт сложность механизмов участвующих в кодировке и раскодировке этих\n",
    "сигналов. Несмотря на это предполагается, что *внешняя среда* относительно нашего *СА* достаточно развитая\n",
    "для такого взаимодействия. Так же возникает необходимость следовать стандартным интерфейсам.\n",
    "Следовательно входной и выходной алфавиты кодируются именно *разрядным* образом.\n",
    "\n",
    "Но переход между состояниями во *внутренней среде* нашего автомата лучше всего совершать с помощью\n",
    "[*кода Грея*][2]. В этом случае соседствующие значения всегда отличаются на один бит:\n",
    "\n",
    "$$\n",
    "\\begin{array}{c}\n",
    "    0000\\\\\n",
    "    0001\\\\\n",
    "    0011\\\\\n",
    "    0010\\\\\n",
    "    0110\\\\\n",
    "    ...\n",
    "\\end{array} \n",
    "$$\n",
    "\n",
    "Для перехода из *разрядного* в *код Грея* используется следующая формула:\n",
    "\n",
    "$$\n",
    "G_{i} = B_{i} \\oplus B_{i+1}\n",
    "$$\n",
    "\n",
    "[1]: https://ru.wikipedia.org/wiki/Расстояние_Хэмминга\n",
    "[2]: https://ru.wikipedia.org/wiki/Код_Грея"
   ]
  },
  {
   "cell_type": "code",
   "execution_count": null,
   "id": "048ce35c-f351-4ca6-8087-3cf24c2181cd",
   "metadata": {},
   "outputs": [],
   "source": []
  }
 ],
 "metadata": {
  "kernelspec": {
   "display_name": "Python 3 (ipykernel)",
   "language": "python",
   "name": "python3"
  },
  "language_info": {
   "codemirror_mode": {
    "name": "ipython",
    "version": 3
   },
   "file_extension": ".py",
   "mimetype": "text/x-python",
   "name": "python",
   "nbconvert_exporter": "python",
   "pygments_lexer": "ipython3",
   "version": "3.11.8"
  }
 },
 "nbformat": 4,
 "nbformat_minor": 5
}
