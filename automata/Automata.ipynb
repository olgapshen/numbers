{
 "cells": [
  {
   "cell_type": "code",
   "execution_count": 1,
   "id": "b2d62fcf-1ad8-4cd5-8f8e-02860a15c815",
   "metadata": {},
   "outputs": [],
   "source": [
    "import io\n",
    "import pandas as pd\n",
    "import numpy as np\n",
    "from transitions.extensions import GraphMachine\n",
    "from IPython.display import Image, display"
   ]
  },
  {
   "cell_type": "markdown",
   "id": "01e5e022-1ba5-453f-b867-f3299f04f4d7",
   "metadata": {},
   "source": [
    "# Теория автоматов\n",
    "\n",
    "Исследование процесса перевода абстрактного (*АА*) автомата в автомат структурный (*СА*).\\\n",
    "Документ основан на [учебном пособии][1] Ожиганова А. А. \"Теория автоматов\".\n",
    "\n",
    "План документа:\n",
    "\n",
    "1. Общая теория\n",
    "2. Описание *АА* Мили с помощью таблиц переходов\n",
    "3. Реализация модели автомата с помощью библиотеки [transitions][2]\n",
    "4. Запуск автомата на входном слове `213121331`\n",
    "5. ...\n",
    "6. Преобразование *АА* в *СА*  с помощью библиотеки [pyeda][3]\n",
    "\n",
    "[1]: https://books.ifmo.ru/book/826/teoriya_avtomatov._uchebnoe_posobie.htm\n",
    "[2]: https://github.com/pytransitions/transitions\n",
    "[3]: https://pyeda.readthedocs.io/en/latest/index.html"
   ]
  },
  {
   "cell_type": "markdown",
   "id": "610235ab-c72e-4ef2-8ad7-1a849c7bc4c9",
   "metadata": {},
   "source": [
    "## Общая теория\n",
    "\n",
    "Напомним, что любой автомат описывается шестикомпонентным набором:\n",
    "\n",
    "$S = (A, Z, W, \\delta, \\lambda, a1)$, где\n",
    "\n",
    "1. $A = {a_1,...,a_m,...,a_M}$ - множество состояний или алфавит состояний *АА*\n",
    "2. $Z = {z_1,...,z_f,...,z_F}$ - множество входных сигналов или входной алфавит *АА*\n",
    "3. $W = {w_1,...,w_g,...,w_G}$ - множество выходных сигналов или выходной алфавит *АА*\n",
    "4. $\\delta$ - функция переходов *АА*: $\\delta(a_m, z_f) \\mapsto a_s\\ |\\ a_m, a_s \\in A$\n",
    "5. $\\lambda$ - функция выходов *АА*: $\\lambda(a_m, z_f) \\mapsto w_g\\ |\\ a_m \\in A, w_g \\in G$\n",
    "7. $а_1$ - начальное состояние *АА*"
   ]
  },
  {
   "cell_type": "markdown",
   "id": "2a06aca7-517e-4d0e-8916-cf9e949e94b3",
   "metadata": {},
   "source": [
    "## Описание АА\n",
    "\n",
    "Задаём функции $\\delta$ и $\\lambda$"
   ]
  },
  {
   "cell_type": "code",
   "execution_count": 2,
   "id": "1edc7fd3-1df3-43d7-b5ae-04ff010abfb9",
   "metadata": {},
   "outputs": [],
   "source": [
    "deltaA = np.array(\n",
    "    [['a2', '', 'a1'],\n",
    "     ['a3', 'a1', ''],\n",
    "     ['a2', 'a3', 'a3']])\n",
    "lmbdaA = np.array(\n",
    "    [['w1', '', 'w2'],\n",
    "     ['w4', 'w5', ''],\n",
    "     ['w2', 'w1', 'w3']])"
   ]
  },
  {
   "cell_type": "code",
   "execution_count": 3,
   "id": "7cccd040-f7c9-41e3-bc1c-e7f3a233a12d",
   "metadata": {},
   "outputs": [
    {
     "data": {
      "text/html": [
       "<div>\n",
       "<style scoped>\n",
       "    .dataframe tbody tr th:only-of-type {\n",
       "        vertical-align: middle;\n",
       "    }\n",
       "\n",
       "    .dataframe tbody tr th {\n",
       "        vertical-align: top;\n",
       "    }\n",
       "\n",
       "    .dataframe thead th {\n",
       "        text-align: right;\n",
       "    }\n",
       "</style>\n",
       "<table border=\"1\" class=\"dataframe\">\n",
       "  <thead>\n",
       "    <tr style=\"text-align: right;\">\n",
       "      <th></th>\n",
       "      <th>a1</th>\n",
       "      <th>a2</th>\n",
       "      <th>a3</th>\n",
       "    </tr>\n",
       "  </thead>\n",
       "  <tbody>\n",
       "    <tr>\n",
       "      <th>z1</th>\n",
       "      <td>a2</td>\n",
       "      <td></td>\n",
       "      <td>a1</td>\n",
       "    </tr>\n",
       "    <tr>\n",
       "      <th>z2</th>\n",
       "      <td>a3</td>\n",
       "      <td>a1</td>\n",
       "      <td></td>\n",
       "    </tr>\n",
       "    <tr>\n",
       "      <th>z3</th>\n",
       "      <td>a2</td>\n",
       "      <td>a3</td>\n",
       "      <td>a3</td>\n",
       "    </tr>\n",
       "  </tbody>\n",
       "</table>\n",
       "</div>"
      ],
      "text/plain": [
       "    a1  a2  a3\n",
       "z1  a2      a1\n",
       "z2  a3  a1    \n",
       "z3  a2  a3  a3"
      ]
     },
     "execution_count": 3,
     "metadata": {},
     "output_type": "execute_result"
    }
   ],
   "source": [
    "delta = pd.DataFrame(\n",
    "    deltaA,\n",
    "    columns=['a1', 'a2', 'a3'],\n",
    "    index=['z1', 'z2', 'z3'])\n",
    "delta"
   ]
  },
  {
   "cell_type": "code",
   "execution_count": 4,
   "id": "c6732b08-2505-4938-ab09-3179d904c3f7",
   "metadata": {},
   "outputs": [
    {
     "data": {
      "text/html": [
       "<div>\n",
       "<style scoped>\n",
       "    .dataframe tbody tr th:only-of-type {\n",
       "        vertical-align: middle;\n",
       "    }\n",
       "\n",
       "    .dataframe tbody tr th {\n",
       "        vertical-align: top;\n",
       "    }\n",
       "\n",
       "    .dataframe thead th {\n",
       "        text-align: right;\n",
       "    }\n",
       "</style>\n",
       "<table border=\"1\" class=\"dataframe\">\n",
       "  <thead>\n",
       "    <tr style=\"text-align: right;\">\n",
       "      <th></th>\n",
       "      <th>a1</th>\n",
       "      <th>a2</th>\n",
       "      <th>a3</th>\n",
       "    </tr>\n",
       "  </thead>\n",
       "  <tbody>\n",
       "    <tr>\n",
       "      <th>z1</th>\n",
       "      <td>w1</td>\n",
       "      <td></td>\n",
       "      <td>w2</td>\n",
       "    </tr>\n",
       "    <tr>\n",
       "      <th>z2</th>\n",
       "      <td>w4</td>\n",
       "      <td>w5</td>\n",
       "      <td></td>\n",
       "    </tr>\n",
       "    <tr>\n",
       "      <th>z3</th>\n",
       "      <td>w2</td>\n",
       "      <td>w1</td>\n",
       "      <td>w3</td>\n",
       "    </tr>\n",
       "  </tbody>\n",
       "</table>\n",
       "</div>"
      ],
      "text/plain": [
       "    a1  a2  a3\n",
       "z1  w1      w2\n",
       "z2  w4  w5    \n",
       "z3  w2  w1  w3"
      ]
     },
     "execution_count": 4,
     "metadata": {},
     "output_type": "execute_result"
    }
   ],
   "source": [
    "lmbda = pd.DataFrame(\n",
    "    lmbdaA,\n",
    "    columns=['a1', 'a2', 'a3'],\n",
    "    index=['z1', 'z2', 'z3'])\n",
    "lmbda"
   ]
  },
  {
   "cell_type": "code",
   "execution_count": 5,
   "id": "2bedbbac-f237-45e4-a24d-a27da5b86743",
   "metadata": {},
   "outputs": [
    {
     "name": "stdout",
     "output_type": "stream",
     "text": [
      "(3, 3, 2)\n"
     ]
    },
    {
     "data": {
      "text/plain": [
       "array([[['a2', 'w1'],\n",
       "        ['', ''],\n",
       "        ['a1', 'w2']],\n",
       "\n",
       "       [['a3', 'w4'],\n",
       "        ['a1', 'w5'],\n",
       "        ['', '']],\n",
       "\n",
       "       [['a2', 'w2'],\n",
       "        ['a3', 'w1'],\n",
       "        ['a3', 'w3']]], dtype=object)"
      ]
     },
     "execution_count": 5,
     "metadata": {},
     "output_type": "execute_result"
    }
   ],
   "source": [
    "desc = np.dstack((delta,lmbda))\n",
    "print(desc.shape)\n",
    "desc"
   ]
  },
  {
   "cell_type": "code",
   "execution_count": 6,
   "id": "11ace839-843f-4340-a0f5-a87f260d2752",
   "metadata": {},
   "outputs": [],
   "source": [
    "class Matter():\n",
    "    states=['a1', 'a2', 'a3']\n",
    "    \n",
    "    def __init__(self, model):\n",
    "        self.states = []\n",
    "        self.dictionary = {}\n",
    "\n",
    "        for a in range(model.shape[1]):\n",
    "            state = 'a' + str(a + 1)\n",
    "            self.states.append(state)        \n",
    "        \n",
    "        self.machine = GraphMachine(\n",
    "            model=self,\n",
    "            states=self.states, \n",
    "            initial='a1')\n",
    "        \n",
    "        for z in range(model.shape[0]):\n",
    "            currSig = 'z' + str(z + 1)\n",
    "            #print(currSig)\n",
    "            for a in range(model.shape[1]):\n",
    "                currState = 'a' + str(a + 1)\n",
    "                #print(currState)\n",
    "                state = model[z, a, 0]\n",
    "                sig = model[z, a, 1]\n",
    "\n",
    "                if not state:\n",
    "                    continue\n",
    "                self.machine.add_transition(currSig, currState, state, after=sig)\n",
    "                print(currSig, currState, state, sig)\n",
    "\n",
    "        for z in range(model.shape[0]):\n",
    "            num = str(z + 1)\n",
    "            sig = 'z' + num\n",
    "            self.dictionary[num] = sig\n",
    "\n",
    "        self.output = []\n",
    "\n",
    "    def w1(self):\n",
    "        self.output.append('a')\n",
    "    def w2(self):\n",
    "        self.output.append('b')\n",
    "    def w3(self):\n",
    "        self.output.append('c')\n",
    "    def w4(self):\n",
    "        self.output.append('d')\n",
    "    def w5(self):\n",
    "        self.output.append('e')\n",
    "\n",
    "    def input(self, inp):\n",
    "        self.output = []\n",
    "        for c in inp:\n",
    "            eventName = self.dictionary[c]\n",
    "            event = getattr(self, eventName)\n",
    "            event()\n",
    "    \n",
    "    def print(self):\n",
    "        print(self.output)\n",
    "    \n",
    "    def show_graph(self, **kwargs):        \n",
    "        stream = io.BytesIO()\n",
    "        self.get_graph(**kwargs).draw(stream, prog='dot', format='png')\n",
    "        display(Image(stream.getvalue()))"
   ]
  },
  {
   "cell_type": "code",
   "execution_count": 7,
   "id": "4e576918-1ae9-4fef-851b-7f7e55f92cd8",
   "metadata": {},
   "outputs": [
    {
     "name": "stdout",
     "output_type": "stream",
     "text": [
      "z1 a1 a2 w1\n",
      "z1 a3 a1 w2\n",
      "z2 a1 a3 w4\n",
      "z2 a2 a1 w5\n",
      "z3 a1 a2 w2\n",
      "z3 a2 a3 w1\n",
      "z3 a3 a3 w3\n"
     ]
    }
   ],
   "source": [
    "model = Matter(desc)"
   ]
  },
  {
   "cell_type": "code",
   "execution_count": 8,
   "id": "d6ff028b-d582-4623-b18b-3bd4372c069c",
   "metadata": {},
   "outputs": [
    {
     "data": {
      "text/plain": [
       "'a3'"
      ]
     },
     "execution_count": 8,
     "metadata": {},
     "output_type": "execute_result"
    }
   ],
   "source": [
    "model.z2()\n",
    "model.state"
   ]
  },
  {
   "cell_type": "code",
   "execution_count": 9,
   "id": "2302d87a-1f83-4413-b0d2-37eeb584bf51",
   "metadata": {},
   "outputs": [
    {
     "data": {
      "text/plain": [
       "'a1'"
      ]
     },
     "execution_count": 9,
     "metadata": {},
     "output_type": "execute_result"
    }
   ],
   "source": [
    "model.z1()\n",
    "model.state"
   ]
  },
  {
   "cell_type": "code",
   "execution_count": 10,
   "id": "00b133ef-d7fd-4033-8331-7aec5df8795e",
   "metadata": {},
   "outputs": [
    {
     "data": {
      "text/plain": [
       "'a2'"
      ]
     },
     "execution_count": 10,
     "metadata": {},
     "output_type": "execute_result"
    }
   ],
   "source": [
    "model.z3()\n",
    "model.state"
   ]
  },
  {
   "cell_type": "code",
   "execution_count": 11,
   "id": "3aa4d3d0-bb27-4364-bfae-c9caae0a004c",
   "metadata": {},
   "outputs": [],
   "source": [
    "model.input('213')"
   ]
  },
  {
   "cell_type": "code",
   "execution_count": 12,
   "id": "9743eccf-d048-4fa9-b2cb-27f71d00c2db",
   "metadata": {},
   "outputs": [
    {
     "name": "stdout",
     "output_type": "stream",
     "text": [
      "['e', 'a', 'a']\n"
     ]
    }
   ],
   "source": [
    "model.print()"
   ]
  },
  {
   "cell_type": "code",
   "execution_count": 13,
   "id": "207c38da-1507-42e1-b622-14b56d0b57cf",
   "metadata": {},
   "outputs": [
    {
     "data": {
      "image/png": "[encoded data removed]",
      "text/plain": [
       "<IPython.core.display.Image object>"
      ]
     },
     "metadata": {},
     "output_type": "display_data"
    }
   ],
   "source": [
    "model.show_graph()"
   ]
  },
  {
   "cell_type": "code",
   "execution_count": null,
   "id": "64016c94-817d-474f-b25a-a1096ef9af24",
   "metadata": {},
   "outputs": [],
   "source": []
  }
 ],
 "metadata": {
  "kernelspec": {
   "display_name": "Python 3 (ipykernel)",
   "language": "python",
   "name": "python3"
  },
  "language_info": {
   "codemirror_mode": {
    "name": "ipython",
    "version": 3
   },
   "file_extension": ".py",
   "mimetype": "text/x-python",
   "name": "python",
   "nbconvert_exporter": "python",
   "pygments_lexer": "ipython3",
   "version": "3.11.8"
  }
 },
 "nbformat": 4,
 "nbformat_minor": 5
}
