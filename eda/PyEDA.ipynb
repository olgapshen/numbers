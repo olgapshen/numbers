{
 "cells": [
  {
   "cell_type": "markdown",
   "id": "21bc6db5-63cb-4a93-926a-b7921b3ea644",
   "metadata": {},
   "source": [
    "# PyEDA\n",
    "\n",
    "Наработки в использовании библиотеки [`pyeda`][1]. Решение содоку.\n",
    "\n",
    "[1]: https://pyeda.readthedocs.io/en/latest/sudoku.html"
   ]
  },
  {
   "cell_type": "code",
   "execution_count": 1,
   "id": "14615aab-d827-43c2-a3d1-ca5bf3f752d0",
   "metadata": {},
   "outputs": [],
   "source": [
    "import os\n",
    "from pyeda.inter import *"
   ]
  },
  {
   "cell_type": "code",
   "execution_count": 2,
   "id": "426ef459-c7d5-4c09-b4d3-bf3de7d6f3f4",
   "metadata": {},
   "outputs": [],
   "source": [
    "DIGITS = \"123456789\""
   ]
  },
  {
   "cell_type": "code",
   "execution_count": 3,
   "id": "36e738f8-c9c0-4d87-881e-657564bb71b6",
   "metadata": {},
   "outputs": [],
   "source": [
    "a, b, c = map(exprvar, 'abc')"
   ]
  },
  {
   "cell_type": "code",
   "execution_count": 4,
   "id": "31a63b7b-d016-42d8-95df-1520832664fb",
   "metadata": {},
   "outputs": [
    {
     "data": {
      "text/plain": [
       "And(Or(~a, ~b), Or(~a, ~c), Or(~b, ~c), Or(a, b, c))"
      ]
     },
     "execution_count": 4,
     "metadata": {},
     "output_type": "execute_result"
    }
   ],
   "source": [
    "f = OneHot(a, b, c)\n",
    "f"
   ]
  },
  {
   "cell_type": "code",
   "execution_count": 5,
   "id": "1155d62e-9761-4d65-a6bc-e981f630a7bd",
   "metadata": {},
   "outputs": [
    {
     "data": {
      "text/plain": [
       "Or(And(a, ~b, ~c), And(~a, b, ~c), And(~a, ~b, c))"
      ]
     },
     "execution_count": 5,
     "metadata": {},
     "output_type": "execute_result"
    }
   ],
   "source": [
    "f.to_dnf()"
   ]
  },
  {
   "cell_type": "code",
   "execution_count": 6,
   "id": "4acae740-b13b-4ccc-a5fb-e886d9d7a961",
   "metadata": {},
   "outputs": [
    {
     "data": {
      "text/plain": [
       "c b a\n",
       "0 0 0 : 0\n",
       "0 0 1 : 1\n",
       "0 1 0 : 1\n",
       "0 1 1 : 0\n",
       "1 0 0 : 1\n",
       "1 0 1 : 0\n",
       "1 1 0 : 0\n",
       "1 1 1 : 0"
      ]
     },
     "execution_count": 6,
     "metadata": {},
     "output_type": "execute_result"
    }
   ],
   "source": [
    "expr2truthtable(f)"
   ]
  },
  {
   "cell_type": "code",
   "execution_count": 7,
   "id": "181c2903-c901-42c8-a4cb-7f62b29076a2",
   "metadata": {},
   "outputs": [],
   "source": [
    "fbdd = expr2bdd(f)"
   ]
  },
  {
   "cell_type": "code",
   "execution_count": 8,
   "id": "2b3947f7-0ff7-4ab0-a3fa-99def6babb8f",
   "metadata": {},
   "outputs": [],
   "source": [
    "imgaesDir = 'img'\n",
    "imageName = 'graphviz_f'\n",
    "imageFormat = 'svg'\n",
    "fileName = '{0}.{1}'.format(imageName, imageFormat)\n",
    "filePath = os.path.join(imgaesDir, fileName)\n",
    "# Удалите файл если необходимо его пересоздать\n",
    "if not os.path.isfile(filePath):\n",
    "    from graphviz import Source\n",
    "    gv = Source(fbdd.to_dot())\n",
    "    gv.render(imageName, directory=imgaesDir, cleanup=True, format=imageFormat)"
   ]
  },
  {
   "cell_type": "markdown",
   "id": "03025d3a-85a6-44a7-882a-2f60315b5e0e",
   "metadata": {},
   "source": [
    "![BDE](img/graphviz_f.svg \"Диаграмма решений\")"
   ]
  },
  {
   "cell_type": "code",
   "execution_count": 9,
   "id": "8cf99535-936e-44eb-a876-2671d70b9bc6",
   "metadata": {},
   "outputs": [],
   "source": [
    "X = exprvars('y', (1, 10))"
   ]
  },
  {
   "cell_type": "code",
   "execution_count": 10,
   "id": "3408f58b-0037-4e93-b2ca-96a90c797035",
   "metadata": {},
   "outputs": [
    {
     "data": {
      "text/plain": [
       "[y[1], y[2], y[3], y[4], y[5], y[6], y[7], y[8], y[9]]"
      ]
     },
     "execution_count": 10,
     "metadata": {},
     "output_type": "execute_result"
    }
   ],
   "source": [
    "[ X[v] for v in range(1, 10) ]"
   ]
  },
  {
   "cell_type": "code",
   "execution_count": 11,
   "id": "a1d86335-aa87-4b62-9fbc-1ee88d40e6a9",
   "metadata": {},
   "outputs": [
    {
     "data": {
      "text/plain": [
       "And(y[1], y[2], y[3], y[4], y[5], y[6], y[7], y[8], y[9])"
      ]
     },
     "execution_count": 11,
     "metadata": {},
     "output_type": "execute_result"
    }
   ],
   "source": [
    "V = And(*[ X[v] for v in range(1, 10) ])\n",
    "V"
   ]
  },
  {
   "cell_type": "code",
   "execution_count": 12,
   "id": "343519f6-5302-4395-a924-063e344d5952",
   "metadata": {},
   "outputs": [],
   "source": [
    "X = exprvars('x', (1, 10), (1, 10), (1, 10))"
   ]
  },
  {
   "cell_type": "markdown",
   "id": "1ccd23a9-15e0-40d3-8ba0-95d4a42eebb8",
   "metadata": {},
   "source": [
    "> every square on the board can assume only one value"
   ]
  },
  {
   "cell_type": "code",
   "execution_count": 13,
   "id": "eebd1052-1cb6-4893-be01-e7d51077ce42",
   "metadata": {},
   "outputs": [],
   "source": [
    "V = And(*[\n",
    "        And(*[\n",
    "            OneHot(*[ X[r, c, v]\n",
    "                for v in range(1, 10) ])\n",
    "            for c in range(1, 10) ])\n",
    "        for r in range(1, 10) ])"
   ]
  },
  {
   "cell_type": "markdown",
   "id": "e363a08f-2222-4f2b-90dd-aea01274d5bf",
   "metadata": {},
   "source": [
    "> every square in each row is unique"
   ]
  },
  {
   "cell_type": "code",
   "execution_count": 14,
   "id": "a91e5a20-6f11-48f2-bc76-c613a1498a93",
   "metadata": {},
   "outputs": [],
   "source": [
    "R = And(*[\n",
    "        And(*[\n",
    "            OneHot(*[ X[r, c, v]\n",
    "                for c in range(1, 10) ])\n",
    "            for v in range(1, 10) ])\n",
    "        for r in range(1, 10) ])"
   ]
  },
  {
   "cell_type": "markdown",
   "id": "e2efcef4-85e2-4184-af26-4a30a2e82c4f",
   "metadata": {},
   "source": [
    "> every square in each column is unique"
   ]
  },
  {
   "cell_type": "code",
   "execution_count": 15,
   "id": "9d7a9cb1-8630-4562-90db-76384f5feb20",
   "metadata": {},
   "outputs": [],
   "source": [
    "C = And(*[\n",
    "        And(*[\n",
    "            OneHot(*[ X[r, c, v]\n",
    "                for r in range(1, 10) ])\n",
    "            for v in range(1, 10) ])\n",
    "        for c in range(1, 10) ])"
   ]
  },
  {
   "cell_type": "markdown",
   "id": "6442148b-d228-4e17-878f-87a73441c9df",
   "metadata": {},
   "source": [
    "> every square in a box is unique"
   ]
  },
  {
   "cell_type": "code",
   "execution_count": 16,
   "id": "61ebbd6c-7049-490d-8b0a-f7e03b43db54",
   "metadata": {},
   "outputs": [],
   "source": [
    "B = And(*[\n",
    "        And(*[\n",
    "            OneHot(*[ X[3*br+r, 3*bc+c, v]\n",
    "                for r in range(1, 4) for c in range(1, 4) ])\n",
    "            for v in range(1, 10) ])\n",
    "        for br in range(3) for bc in range(3) ])"
   ]
  },
  {
   "cell_type": "code",
   "execution_count": 17,
   "id": "c56a20fd-9643-420d-aecf-eddea6ebc1d3",
   "metadata": {},
   "outputs": [
    {
     "data": {
      "text/plain": [
       "11988"
      ]
     },
     "execution_count": 17,
     "metadata": {},
     "output_type": "execute_result"
    }
   ],
   "source": [
    "S = And(V, R, C, B)\n",
    "len(S.xs)"
   ]
  },
  {
   "cell_type": "code",
   "execution_count": 18,
   "id": "6d5c6258-8d6a-4f18-bbf7-8e0ca0656418",
   "metadata": {},
   "outputs": [],
   "source": [
    "def parse_grid(grid):\n",
    "    chars = [c for c in grid if c in DIGITS or c in \"0.\"]\n",
    "    assert len(chars) == 9 ** 2\n",
    "    return And(*[\n",
    "        X[i // 9 + 1, i % 9 + 1, int(c)]\n",
    "        for i, c in enumerate(chars) if c in DIGITS\n",
    "    ])"
   ]
  },
  {
   "cell_type": "code",
   "execution_count": 23,
   "id": "7868d68e-debd-4705-bfac-d9c76c0e2864",
   "metadata": {},
   "outputs": [],
   "source": [
    "grid = ( \".73|...|8..\"\n",
    "         \"..4|13.|.5.\"\n",
    "         \".85|..6|31.\"\n",
    "         \"---+---+---\"\n",
    "         \"5..|.9.|.3.\"\n",
    "         \"..8|.1.|5..\"\n",
    "         \".1.|.6.|..7\"\n",
    "         \"---+---+---\"\n",
    "         \".51|6..|28.\"\n",
    "         \".4.|.52|9..\"\n",
    "         \"..2|...|64.\" )"
   ]
  },
  {
   "cell_type": "code",
   "execution_count": 24,
   "id": "873826c7-e423-4fee-9fcd-9735ea2a9316",
   "metadata": {},
   "outputs": [],
   "source": [
    "def get_val(point, r, c):\n",
    "    for v in range(1, 10):\n",
    "        if point[X[r, c, v]]:\n",
    "            return DIGITS[v-1]\n",
    "    return \"X\"\n",
    "\n",
    "def display(point):\n",
    "    chars = list()\n",
    "    for r in range(1, 10):\n",
    "        for c in range(1, 10):\n",
    "            if c in (4, 7):\n",
    "                chars.append(\"|\")\n",
    "            chars.append(get_val(point, r, c))\n",
    "        if r != 9:\n",
    "            chars.append(\"\\n\")\n",
    "            if r in (3, 6):\n",
    "                chars.append(\"---+---+---\\n\")\n",
    "    print(\"\".join(chars))"
   ]
  },
  {
   "cell_type": "code",
   "execution_count": 25,
   "id": "47125966-f572-460f-9d0c-c2e75f04709c",
   "metadata": {},
   "outputs": [],
   "source": [
    "def solve(grid):\n",
    "     with parse_grid(grid):\n",
    "         return S.satisfy_one()"
   ]
  },
  {
   "cell_type": "code",
   "execution_count": 26,
   "id": "2b1f7e22-4e8c-4a53-b206-4290eb2451bf",
   "metadata": {},
   "outputs": [
    {
     "name": "stdout",
     "output_type": "stream",
     "text": [
      "173|529|864\n",
      "694|138|752\n",
      "285|476|319\n",
      "---+---+---\n",
      "567|294|138\n",
      "428|713|596\n",
      "319|865|427\n",
      "---+---+---\n",
      "951|647|283\n",
      "846|352|971\n",
      "732|981|645\n"
     ]
    }
   ],
   "source": [
    "display(solve(grid))"
   ]
  },
  {
   "cell_type": "code",
   "execution_count": null,
   "id": "af8c3a57-4ff6-48c5-bedb-d333baab7b25",
   "metadata": {},
   "outputs": [],
   "source": []
  }
 ],
 "metadata": {
  "kernelspec": {
   "display_name": "Python 3 (ipykernel)",
   "language": "python",
   "name": "python3"
  },
  "language_info": {
   "codemirror_mode": {
    "name": "ipython",
    "version": 3
   },
   "file_extension": ".py",
   "mimetype": "text/x-python",
   "name": "python",
   "nbconvert_exporter": "python",
   "pygments_lexer": "ipython3",
   "version": "3.11.8"
  }
 },
 "nbformat": 4,
 "nbformat_minor": 5
}
